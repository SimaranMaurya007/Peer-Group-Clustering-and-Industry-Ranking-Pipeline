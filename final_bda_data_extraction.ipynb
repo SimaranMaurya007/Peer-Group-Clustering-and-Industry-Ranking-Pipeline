{
  "nbformat": 4,
  "nbformat_minor": 0,
  "metadata": {
    "colab": {
      "provenance": []
    },
    "kernelspec": {
      "name": "python3",
      "display_name": "Python 3"
    },
    "language_info": {
      "name": "python"
    }
  },
  "cells": [
    {
      "cell_type": "code",
      "source": [
        "!pip install yfinance tqdm"
      ],
      "metadata": {
        "colab": {
          "base_uri": "https://localhost:8080/"
        },
        "id": "jRptpDDWOhyE",
        "outputId": "9b14e56f-2f21-4ff8-8ef4-4a12b98e6c73"
      },
      "execution_count": null,
      "outputs": [
        {
          "output_type": "stream",
          "name": "stdout",
          "text": [
            "Requirement already satisfied: yfinance in /usr/local/lib/python3.12/dist-packages (0.2.65)\n",
            "Requirement already satisfied: tqdm in /usr/local/lib/python3.12/dist-packages (4.67.1)\n",
            "Requirement already satisfied: pandas>=1.3.0 in /usr/local/lib/python3.12/dist-packages (from yfinance) (2.2.2)\n",
            "Requirement already satisfied: numpy>=1.16.5 in /usr/local/lib/python3.12/dist-packages (from yfinance) (2.0.2)\n",
            "Requirement already satisfied: requests>=2.31 in /usr/local/lib/python3.12/dist-packages (from yfinance) (2.32.4)\n",
            "Requirement already satisfied: multitasking>=0.0.7 in /usr/local/lib/python3.12/dist-packages (from yfinance) (0.0.12)\n",
            "Requirement already satisfied: platformdirs>=2.0.0 in /usr/local/lib/python3.12/dist-packages (from yfinance) (4.3.8)\n",
            "Requirement already satisfied: pytz>=2022.5 in /usr/local/lib/python3.12/dist-packages (from yfinance) (2025.2)\n",
            "Requirement already satisfied: frozendict>=2.3.4 in /usr/local/lib/python3.12/dist-packages (from yfinance) (2.4.6)\n",
            "Requirement already satisfied: peewee>=3.16.2 in /usr/local/lib/python3.12/dist-packages (from yfinance) (3.18.2)\n",
            "Requirement already satisfied: beautifulsoup4>=4.11.1 in /usr/local/lib/python3.12/dist-packages (from yfinance) (4.13.5)\n",
            "Requirement already satisfied: curl_cffi>=0.7 in /usr/local/lib/python3.12/dist-packages (from yfinance) (0.13.0)\n",
            "Requirement already satisfied: protobuf>=3.19.0 in /usr/local/lib/python3.12/dist-packages (from yfinance) (5.29.5)\n",
            "Requirement already satisfied: websockets>=13.0 in /usr/local/lib/python3.12/dist-packages (from yfinance) (15.0.1)\n",
            "Requirement already satisfied: soupsieve>1.2 in /usr/local/lib/python3.12/dist-packages (from beautifulsoup4>=4.11.1->yfinance) (2.7)\n",
            "Requirement already satisfied: typing-extensions>=4.0.0 in /usr/local/lib/python3.12/dist-packages (from beautifulsoup4>=4.11.1->yfinance) (4.15.0)\n",
            "Requirement already satisfied: cffi>=1.12.0 in /usr/local/lib/python3.12/dist-packages (from curl_cffi>=0.7->yfinance) (1.17.1)\n",
            "Requirement already satisfied: certifi>=2024.2.2 in /usr/local/lib/python3.12/dist-packages (from curl_cffi>=0.7->yfinance) (2025.8.3)\n",
            "Requirement already satisfied: python-dateutil>=2.8.2 in /usr/local/lib/python3.12/dist-packages (from pandas>=1.3.0->yfinance) (2.9.0.post0)\n",
            "Requirement already satisfied: tzdata>=2022.7 in /usr/local/lib/python3.12/dist-packages (from pandas>=1.3.0->yfinance) (2025.2)\n",
            "Requirement already satisfied: charset_normalizer<4,>=2 in /usr/local/lib/python3.12/dist-packages (from requests>=2.31->yfinance) (3.4.3)\n",
            "Requirement already satisfied: idna<4,>=2.5 in /usr/local/lib/python3.12/dist-packages (from requests>=2.31->yfinance) (3.10)\n",
            "Requirement already satisfied: urllib3<3,>=1.21.1 in /usr/local/lib/python3.12/dist-packages (from requests>=2.31->yfinance) (2.5.0)\n",
            "Requirement already satisfied: pycparser in /usr/local/lib/python3.12/dist-packages (from cffi>=1.12.0->curl_cffi>=0.7->yfinance) (2.22)\n",
            "Requirement already satisfied: six>=1.5 in /usr/local/lib/python3.12/dist-packages (from python-dateutil>=2.8.2->pandas>=1.3.0->yfinance) (1.17.0)\n"
          ]
        }
      ]
    },
    {
      "cell_type": "code",
      "source": [
        "from google.colab import drive\n",
        "drive.mount('/content/drive')"
      ],
      "metadata": {
        "colab": {
          "base_uri": "https://localhost:8080/"
        },
        "id": "SnDTiLwKamW2",
        "outputId": "18c77fa6-39e0-4962-c141-1450c72f49bf"
      },
      "execution_count": null,
      "outputs": [
        {
          "output_type": "stream",
          "name": "stdout",
          "text": [
            "Mounted at /content/drive\n"
          ]
        }
      ]
    },
    {
      "cell_type": "code",
      "source": [
        "zip_path = \"/content/drive/MyDrive/companyfacts.zip\""
      ],
      "metadata": {
        "id": "uj_zJWEsSRTU"
      },
      "execution_count": null,
      "outputs": []
    },
    {
      "cell_type": "code",
      "source": [
        "import zipfile, json, os\n",
        "import pandas as pd\n",
        "from tqdm import tqdm\n",
        "\n",
        "extract_dir = \"/content/companyfacts\"\n",
        "os.makedirs(extract_dir, exist_ok=True)\n",
        "\n",
        "with zipfile.ZipFile(zip_path, 'r') as zip_ref:\n",
        "    zip_ref.extractall(extract_dir)\n",
        "\n",
        "print(\"Unzipped to:\", extract_dir)"
      ],
      "metadata": {
        "colab": {
          "base_uri": "https://localhost:8080/"
        },
        "id": "raYKukiIaIXu",
        "outputId": "45dcbe81-41ce-4ffc-b745-bd48460b94c7"
      },
      "execution_count": null,
      "outputs": [
        {
          "output_type": "stream",
          "name": "stdout",
          "text": [
            "Unzipped to: /content/companyfacts\n"
          ]
        }
      ]
    },
    {
      "cell_type": "code",
      "source": [
        "import os\n",
        "\n",
        "files = []\n",
        "for root, _, f_list in os.walk(extract_dir):\n",
        "    for f in f_list:\n",
        "        if f.endswith(\".json\"):\n",
        "            files.append(os.path.join(root, f))\n",
        "\n",
        "print(\"Total JSON files:\", len(files))\n"
      ],
      "metadata": {
        "colab": {
          "base_uri": "https://localhost:8080/"
        },
        "id": "F7yFIzJ6xZ65",
        "outputId": "bb7e3b16-aa06-4034-dfe3-f847eed8e785"
      },
      "execution_count": null,
      "outputs": [
        {
          "output_type": "stream",
          "name": "stdout",
          "text": [
            "Total JSON files: 18898\n"
          ]
        }
      ]
    },
    {
      "cell_type": "code",
      "source": [
        "import os\n",
        "import json\n",
        "from collections import defaultdict\n",
        "from tqdm import tqdm\n",
        "\n",
        "\n",
        "# keyword rules for categories\n",
        "CATEGORIES = {\n",
        "    \"net_income\": [\"netincome\", \"profitloss\"],\n",
        "    \"revenue\": [\"revenue\", \"sales\"],\n",
        "    \"assets\": [\"asset\"],\n",
        "    \"liabilities\": [\"liabilit\"],\n",
        "    \"equity\": [\"equity\", \"stockholders\"],\n",
        "    \"shares_outstanding\": [\"sharesoutstanding\", \"commonstock\"],\n",
        "    \"public_float\": [\"publicfloat\"]\n",
        "}\n",
        "\n",
        "# store tag counts\n",
        "tag_counts = defaultdict(int)\n",
        "\n",
        "print(\" Scanning JSON files...\")\n",
        "for root, _, files in os.walk(extract_dir):\n",
        "    for file in tqdm(files):\n",
        "        if file.endswith(\".json\"):\n",
        "            with open(os.path.join(root, file)) as f:\n",
        "                data = json.load(f)\n",
        "                for ns, facts in data.get(\"facts\", {}).items():\n",
        "                    for tag in facts.keys():\n",
        "                        tag_counts[tag.lower()] += 1  # lowercase for matching\n",
        "\n",
        "print(f\"\\nFound {len(tag_counts)} unique tags\")\n",
        "\n",
        "# assign tags into categories\n",
        "tag_map = defaultdict(list)\n",
        "\n",
        "for tag, count in sorted(tag_counts.items(), key=lambda x: x[1], reverse=True):\n",
        "    for cat, keywords in CATEGORIES.items():\n",
        "        if any(kw in tag for kw in keywords):\n",
        "            tag_map[cat].append(tag)\n",
        "            break\n",
        "\n",
        "# show results\n",
        "for cat, tags in tag_map.items():\n",
        "    print(f\"\\n {cat} ({len(tags)} tags):\")\n",
        "\n",
        "# save to JSON for later refinement\n",
        "with open(\"TAG_MAP.json\", \"w\") as f:\n",
        "    json.dump(tag_map, f, indent=2)\n",
        "\n"
      ],
      "metadata": {
        "colab": {
          "base_uri": "https://localhost:8080/"
        },
        "id": "ws37rhgvzpgM",
        "outputId": "3919a73a-5e5f-4614-f39f-8392b4a03806"
      },
      "execution_count": null,
      "outputs": [
        {
          "output_type": "stream",
          "name": "stdout",
          "text": [
            "🔍 Scanning JSON files...\n"
          ]
        },
        {
          "output_type": "stream",
          "name": "stderr",
          "text": [
            "100%|██████████| 18898/18898 [08:12<00:00, 38.40it/s]"
          ]
        },
        {
          "output_type": "stream",
          "name": "stdout",
          "text": [
            "\n",
            "Found 13552 unique tags\n",
            "\n",
            " assets (1804 tags):\n",
            "\n",
            " liabilities (1132 tags):\n",
            "\n",
            " net_income (143 tags):\n",
            "\n",
            " shares_outstanding (84 tags):\n",
            "\n",
            " equity (466 tags):\n",
            "\n",
            " public_float (1 tags):\n",
            "\n",
            " revenue (722 tags):\n"
          ]
        },
        {
          "output_type": "stream",
          "name": "stderr",
          "text": [
            "\n"
          ]
        }
      ]
    },
    {
      "cell_type": "code",
      "source": [
        "import json\n",
        "import os\n",
        "\n",
        "# load the auto-built TAG_MAP\n",
        "with open(\"TAG_MAP.json\") as f:\n",
        "    TAG_MAP = json.load(f)\n",
        "\n",
        "def extract_metrics(data, cik, ticker, entity):\n",
        "    records = []\n",
        "    facts = data.get(\"facts\", {})\n",
        "\n",
        "    # loop through each target category (net_income, revenue, etc.)\n",
        "    for category, tag_list in TAG_MAP.items():\n",
        "        value = None\n",
        "        year = None\n",
        "\n",
        "        for ns, ns_facts in facts.items():\n",
        "            # lowercase mapping of SEC tags\n",
        "            ns_facts_lower = {k.lower(): v for k, v in ns_facts.items()}\n",
        "\n",
        "            for tag in tag_list:\n",
        "                if tag in ns_facts_lower:   # lowercase match\n",
        "                    fact = ns_facts_lower[tag]\n",
        "\n",
        "                    if \"units\" in fact:\n",
        "                        for unit, entries in fact[\"units\"].items():\n",
        "                            # pick the latest entry with 'end'\n",
        "                            for entry in entries:\n",
        "                                if \"end\" in entry and entry.get(\"val\") is not None:\n",
        "                                    value = entry[\"val\"]\n",
        "                                    year = entry[\"end\"][:4]\n",
        "                                    break\n",
        "                            if value is not None:\n",
        "                                break\n",
        "                if value is not None:\n",
        "                    break\n",
        "            if value is not None:\n",
        "                break\n",
        "\n",
        "        if value is not None:\n",
        "            records.append({\n",
        "                \"cik\": cik,\n",
        "                \"ticker\": ticker if ticker else \"\",\n",
        "                \"entity\": entity,\n",
        "                \"year\": year,\n",
        "                \"metric\": category,\n",
        "                \"value\": value\n",
        "            })\n",
        "\n",
        "    return records\n"
      ],
      "metadata": {
        "id": "tbCepMML1-2C"
      },
      "execution_count": null,
      "outputs": []
    },
    {
      "cell_type": "code",
      "source": [
        "sample_file = \"/content/companyfacts/CIK0000001750.json\"\n",
        "with open(sample_file) as f:\n",
        "    data = json.load(f)\n",
        "\n",
        "cik = data.get(\"cik\")\n",
        "ticker = data.get(\"entityIdentifier\", {}).get(\"ticker\")\n",
        "entity = data.get(\"entityName\")\n",
        "\n",
        "print(extract_metrics(data, cik, ticker, entity))\n"
      ],
      "metadata": {
        "colab": {
          "base_uri": "https://localhost:8080/"
        },
        "id": "XvMfAgXz5d4S",
        "outputId": "4d692a53-f2d2-4b16-da05-6b475e6619e3"
      },
      "execution_count": null,
      "outputs": [
        {
          "output_type": "stream",
          "name": "stdout",
          "text": [
            "[{'cik': 1750, 'ticker': '', 'entity': 'AAR CORP', 'year': '2010', 'metric': 'assets', 'value': 1501042000}, {'cik': 1750, 'ticker': '', 'entity': 'AAR CORP', 'year': '2010', 'metric': 'liabilities', 'value': 1501042000}, {'cik': 1750, 'ticker': '', 'entity': 'AAR CORP', 'year': '2009', 'metric': 'net_income', 'value': 56772000}, {'cik': 1750, 'ticker': '', 'entity': 'AAR CORP', 'year': '2010', 'metric': 'shares_outstanding', 'value': 39662816}, {'cik': 1750, 'ticker': '', 'entity': 'AAR CORP', 'year': '2010', 'metric': 'equity', 'value': 746906000}, {'cik': 1750, 'ticker': '', 'entity': 'AAR CORP', 'year': '2010', 'metric': 'public_float', 'value': 934567976}, {'cik': 1750, 'ticker': '', 'entity': 'AAR CORP', 'year': '2020', 'metric': 'revenue', 'value': 9800000}]\n"
          ]
        }
      ]
    },
    {
      "cell_type": "code",
      "source": [
        "root = \"/content/companyfacts\"\n",
        "all_records = []\n",
        "\n",
        "for file in os.listdir(root):\n",
        "    if file.endswith(\".json\"):\n",
        "        with open(os.path.join(root, file)) as f:\n",
        "            data = json.load(f)\n",
        "            cik = data.get(\"cik\")\n",
        "            ticker = data.get(\"entityIdentifier\", {}).get(\"ticker\")\n",
        "            entity = data.get(\"entityName\")\n",
        "\n",
        "            recs = extract_metrics(data, cik, ticker, entity)\n",
        "            all_records.extend(recs)\n",
        "\n",
        "import pandas as pd\n",
        "df = pd.DataFrame(all_records)\n",
        "\n",
        "print(df.head())\n"
      ],
      "metadata": {
        "colab": {
          "base_uri": "https://localhost:8080/"
        },
        "id": "CW_tLleZ2A6m",
        "outputId": "0333f7e2-2690-47ff-b440-d728817a0000"
      },
      "execution_count": null,
      "outputs": [
        {
          "output_type": "stream",
          "name": "stdout",
          "text": [
            "          cik ticker                  entity  year              metric  \\\n",
            "0  0002033615         Magnolia Bancorp, Inc.  2023              assets   \n",
            "1  0002033615         Magnolia Bancorp, Inc.  2023         liabilities   \n",
            "2  0002033615         Magnolia Bancorp, Inc.  2023          net_income   \n",
            "3  0002033615         Magnolia Bancorp, Inc.  2024  shares_outstanding   \n",
            "4  0002033615         Magnolia Bancorp, Inc.  2022              equity   \n",
            "\n",
            "        value  \n",
            "0  35803000.0  \n",
            "1  35803000.0  \n",
            "2     80000.0  \n",
            "3         0.0  \n",
            "4  13930000.0  \n"
          ]
        }
      ]
    },
    {
      "cell_type": "code",
      "source": [
        "print(df.shape)\n"
      ],
      "metadata": {
        "colab": {
          "base_uri": "https://localhost:8080/"
        },
        "id": "WqVkWDNJ8QfW",
        "outputId": "606f010f-9284-4fae-caca-8921b67ff675"
      },
      "execution_count": null,
      "outputs": [
        {
          "output_type": "stream",
          "name": "stdout",
          "text": [
            "(109955, 6)\n"
          ]
        }
      ]
    },
    {
      "cell_type": "code",
      "source": [
        "import pandas as pd\n",
        "\n",
        "print(\"Before pivot:\", df.shape)\n",
        "\n",
        "# pivot to wide format (one row per cik/ticker/entity/year)\n",
        "df_wide = df.pivot_table(\n",
        "    index=[\"cik\", \"ticker\", \"entity\", \"year\"],\n",
        "    columns=\"metric\",\n",
        "    values=\"value\",\n",
        "    aggfunc=\"first\"\n",
        ").reset_index()\n",
        "\n",
        "print(\"After pivot:\", df_wide.shape)\n",
        "print(df_wide.head())\n",
        "\n",
        "# save to CSV\n",
        "output_file = \"company_metrics.csv\"\n",
        "df_wide.to_csv(output_file, index=False)\n",
        "print(f\" Saved to {output_file}\")\n"
      ],
      "metadata": {
        "colab": {
          "base_uri": "https://localhost:8080/"
        },
        "id": "RSzb8cUw8r78",
        "outputId": "84680b58-28f5-4ccc-9efc-275a36fed20f"
      },
      "execution_count": null,
      "outputs": [
        {
          "output_type": "stream",
          "name": "stdout",
          "text": [
            "Before pivot: (109955, 6)\n",
            "After pivot: (52497, 11)\n",
            "metric   cik ticker               entity  year        assets        equity  \\\n",
            "0       1750                    AAR CORP  2009           NaN           NaN   \n",
            "1       1750                    AAR CORP  2010  1.501042e+09  7.469060e+08   \n",
            "2       1750                    AAR CORP  2020           NaN           NaN   \n",
            "3       1800         ABBOTT LABORATORIES  2007  3.971392e+10  1.777854e+10   \n",
            "4       1800         ABBOTT LABORATORIES  2008           NaN           NaN   \n",
            "\n",
            "metric   liabilities  net_income  public_float    revenue  shares_outstanding  \n",
            "0                NaN  56772000.0           NaN        NaN                 NaN  \n",
            "1       1.501042e+09         NaN  9.345680e+08        NaN          39662816.0  \n",
            "2                NaN         NaN           NaN  9800000.0                 NaN  \n",
            "3       3.971392e+10         NaN           NaN        NaN                 NaN  \n",
            "4                NaN         NaN  7.877102e+10        NaN                 NaN  \n",
            "✅ Saved to company_metrics.csv\n"
          ]
        }
      ]
    },
    {
      "cell_type": "code",
      "source": [
        "import pandas as pd\n",
        "\n",
        "df = pd.read_csv(\"company_metrics.csv\")\n",
        "\n",
        "# --- Add financial ratios ---\n",
        "df[\"ROE\"] = df[\"net_income\"] / df[\"equity\"]          # Return on Equity\n",
        "df[\"ROA\"] = df[\"net_income\"] / df[\"assets\"]          # Return on Assets\n",
        "df[\"DebtToEquity\"] = df[\"liabilities\"] / df[\"equity\"]\n",
        "df[\"ProfitMargin\"] = df[\"net_income\"] / df[\"revenue\"]\n",
        "df[\"AssetTurnover\"] = df[\"revenue\"] / df[\"assets\"]\n",
        "df[\"EquityRatio\"] = df[\"equity\"] / df[\"assets\"]\n",
        "\n",
        "#Earnings per Share (needs shares outstanding)\n",
        "df[\"EPS\"] = df[\"net_income\"] / df[\"shares_outstanding\"]\n",
        "\n",
        "\n",
        "# Save enriched dataset\n",
        "df.to_csv(\"company_metrics_with_ratios.csv\", index=False)\n",
        "\n",
        "print(\"saved with ratios:\", df.shape)\n",
        "print(df.head())\n"
      ],
      "metadata": {
        "colab": {
          "base_uri": "https://localhost:8080/"
        },
        "id": "U-ZKXALc9UkW",
        "outputId": "45d917bf-fb36-4793-97ca-15fd9a08c33e"
      },
      "execution_count": null,
      "outputs": [
        {
          "output_type": "stream",
          "name": "stdout",
          "text": [
            "saved with ratios: (52497, 18)\n",
            "    cik  ticker               entity  year        assets        equity  \\\n",
            "0  1750     NaN             AAR CORP  2009           NaN           NaN   \n",
            "1  1750     NaN             AAR CORP  2010  1.501042e+09  7.469060e+08   \n",
            "2  1750     NaN             AAR CORP  2020           NaN           NaN   \n",
            "3  1800     NaN  ABBOTT LABORATORIES  2007  3.971392e+10  1.777854e+10   \n",
            "4  1800     NaN  ABBOTT LABORATORIES  2008           NaN           NaN   \n",
            "\n",
            "    liabilities  net_income  public_float    revenue  shares_outstanding  ROE  \\\n",
            "0           NaN  56772000.0           NaN        NaN                 NaN  NaN   \n",
            "1  1.501042e+09         NaN  9.345680e+08        NaN          39662816.0  NaN   \n",
            "2           NaN         NaN           NaN  9800000.0                 NaN  NaN   \n",
            "3  3.971392e+10         NaN           NaN        NaN                 NaN  NaN   \n",
            "4           NaN         NaN  7.877102e+10        NaN                 NaN  NaN   \n",
            "\n",
            "   ROA  DebtToEquity  ProfitMargin  AssetTurnover  EquityRatio  EPS  \n",
            "0  NaN           NaN           NaN            NaN          NaN  NaN  \n",
            "1  NaN      2.009680           NaN            NaN     0.497592  NaN  \n",
            "2  NaN           NaN           NaN            NaN          NaN  NaN  \n",
            "3  NaN      2.233812           NaN            NaN     0.447665  NaN  \n",
            "4  NaN           NaN           NaN            NaN          NaN  NaN  \n"
          ]
        }
      ]
    },
    {
      "cell_type": "code",
      "source": [
        "import pandas as pd\n",
        "import numpy as np\n",
        "import yfinance as yf\n",
        "\n",
        "# 1. Fill missing raw values\n",
        "def fill_missing_smart(df):\n",
        "    df_out = df.copy()\n",
        "    for col in [\"assets\", \"liabilities\", \"equity\", \"net_income\", \"public_float\",\n",
        "                \"revenue\", \"shares_outstanding\"]:\n",
        "        if col in df_out.columns:\n",
        "            # fill per company (cik or ticker)\n",
        "            df_out[col] = (\n",
        "                df_out.groupby(\"cik\")[col]\n",
        "                .transform(lambda x: x.ffill().bfill().fillna(x.median()))\n",
        "            )\n",
        "    return df_out\n",
        "\n",
        "# 2. Recompute ratios\n",
        "def add_ratios(df):\n",
        "    df = df.copy()\n",
        "\n",
        "    df[\"ROE\"] = df[\"net_income\"] / df[\"equity\"].replace(0, np.nan)\n",
        "    df[\"ROA\"] = df[\"net_income\"] / df[\"assets\"].replace(0, np.nan)\n",
        "    df[\"DebtToEquity\"] = df[\"liabilities\"] / df[\"equity\"].replace(0, np.nan)\n",
        "    df[\"CurrentRatio\"] = df[\"assets\"] / df[\"liabilities\"].replace(0, np.nan)\n",
        "    df[\"ProfitMargin\"] = df[\"net_income\"] / df[\"revenue\"].replace(0, np.nan)\n",
        "    df[\"AssetTurnover\"] = df[\"revenue\"] / df[\"assets\"].replace(0, np.nan)\n",
        "    df[\"EquityRatio\"] = df[\"equity\"] / df[\"assets\"].replace(0, np.nan)\n",
        "    df[\"EPS\"] = df[\"net_income\"] / df[\"shares_outstanding\"].replace(0, np.nan)\n",
        "    df[\"FloatPct\"] = df[\"public_float\"] / (df[\"shares_outstanding\"] * df[\"equity\"] / df[\"equity\"])\n",
        "\n",
        "    return df\n",
        "\n",
        "# 3. Fallback with yfinance\n",
        "def fill_ratios_from_yf(df):\n",
        "    df = df.copy()\n",
        "\n",
        "    for ticker in df[\"ticker\"].dropna().unique():\n",
        "        try:\n",
        "            t = yf.Ticker(ticker)\n",
        "            info = t.info\n",
        "        except Exception:\n",
        "            continue\n",
        "\n",
        "        mask = df[\"ticker\"] == ticker\n",
        "        if df.loc[mask, \"ROE\"].isna().any() and \"returnOnEquity\" in info:\n",
        "            df.loc[mask, \"ROE\"] = df.loc[mask, \"ROE\"].fillna(info[\"returnOnEquity\"])\n",
        "        if df.loc[mask, \"ROA\"].isna().any() and \"returnOnAssets\" in info:\n",
        "            df.loc[mask, \"ROA\"] = df.loc[mask, \"ROA\"].fillna(info[\"returnOnAssets\"])\n",
        "        if df.loc[mask, \"DebtToEquity\"].isna().any() and \"debtToEquity\" in info:\n",
        "            df.loc[mask, \"DebtToEquity\"] = df.loc[mask, \"DebtToEquity\"].fillna(info[\"debtToEquity\"])\n",
        "        if df.loc[mask, \"ProfitMargin\"].isna().any() and \"profitMargins\" in info:\n",
        "            df.loc[mask, \"ProfitMargin\"] = df.loc[mask, \"ProfitMargin\"].fillna(info[\"profitMargins\"])\n",
        "        # EPS\n",
        "        if df.loc[mask, \"EPS\"].isna().any() and \"trailingEps\" in info:\n",
        "            df.loc[mask, \"EPS\"] = df.loc[mask, \"EPS\"].fillna(info[\"trailingEps\"])\n",
        "\n",
        "    return df\n",
        "\n",
        "# Full pipeline\n",
        "def process_financials(df_raw):\n",
        "    df1 = fill_missing_smart(df_raw)\n",
        "    df2 = add_ratios(df1)\n",
        "    df3 = fill_ratios_from_yf(df2)\n",
        "    return df3\n",
        "\n",
        "df_processed = process_financials(df)\n",
        "print(df_processed.head());"
      ],
      "metadata": {
        "colab": {
          "base_uri": "https://localhost:8080/"
        },
        "id": "S2PcLOj3BH1h",
        "outputId": "d74cfc5f-ced9-4c82-80f0-8a53576386fd"
      },
      "execution_count": null,
      "outputs": [
        {
          "output_type": "stream",
          "name": "stdout",
          "text": [
            "    cik  ticker               entity  year        assets        equity  \\\n",
            "0  1750     NaN             AAR CORP  2009  1.501042e+09  7.469060e+08   \n",
            "1  1750     NaN             AAR CORP  2010  1.501042e+09  7.469060e+08   \n",
            "2  1750     NaN             AAR CORP  2020  1.501042e+09  7.469060e+08   \n",
            "3  1800     NaN  ABBOTT LABORATORIES  2007  3.971392e+10  1.777854e+10   \n",
            "4  1800     NaN  ABBOTT LABORATORIES  2008  3.971392e+10  1.777854e+10   \n",
            "\n",
            "    liabilities    net_income  public_float       revenue  shares_outstanding  \\\n",
            "0  1.501042e+09  5.677200e+07  9.345680e+08  9.800000e+06        3.966282e+07   \n",
            "1  1.501042e+09  5.677200e+07  9.345680e+08  9.800000e+06        3.966282e+07   \n",
            "2  1.501042e+09  5.677200e+07  9.345680e+08  9.800000e+06        3.966282e+07   \n",
            "3  3.971392e+10  4.728000e+09  7.877102e+10  2.085300e+10        1.545912e+09   \n",
            "4  3.971392e+10  4.728000e+09  7.877102e+10  2.085300e+10        1.545912e+09   \n",
            "\n",
            "        ROE       ROA  DebtToEquity  ProfitMargin  AssetTurnover  EquityRatio  \\\n",
            "0  0.076010  0.037822      2.009680      5.793061       0.006529     0.497592   \n",
            "1  0.076010  0.037822      2.009680      5.793061       0.006529     0.497592   \n",
            "2  0.076010  0.037822      2.009680      5.793061       0.006529     0.497592   \n",
            "3  0.265939  0.119051      2.233812      0.226730       0.525080     0.447665   \n",
            "4  0.265939  0.119051      2.233812      0.226730       0.525080     0.447665   \n",
            "\n",
            "        EPS  CurrentRatio   FloatPct  \n",
            "0  1.431366           1.0  23.562825  \n",
            "1  1.431366           1.0  23.562825  \n",
            "2  1.431366           1.0  23.562825  \n",
            "3  3.058388           1.0  50.954384  \n",
            "4  3.058388           1.0  50.954384  \n"
          ]
        }
      ]
    },
    {
      "cell_type": "code",
      "source": [
        "df_processed.to_csv(\"financials_with_ratios.csv\", index=False)"
      ],
      "metadata": {
        "id": "LvVte4MbBz7B"
      },
      "execution_count": null,
      "outputs": []
    },
    {
      "cell_type": "code",
      "source": [
        "import requests\n",
        "import pandas as pd\n",
        "\n",
        "url = \"https://www.sec.gov/files/company_tickers.json\"\n",
        "headers = {\"User-Agent\": \"Brave/5.0 (compatible; MyApp/1.0; simaran@gmail.com)\"}\n",
        "\n",
        "resp = requests.get(url, headers=headers)\n",
        "resp.raise_for_status()\n",
        "\n",
        "tickers = resp.json()\n",
        "df_map = pd.DataFrame.from_dict(tickers, orient=\"index\")\n",
        "df_map = df_map.rename(columns={\"cik_str\":\"cik\", \"ticker\":\"ticker\", \"title\":\"entity\"})\n",
        "df_map[\"cik\"] = df_map[\"cik\"].astype(int)\n",
        "\n",
        "print(df_map.head())\n"
      ],
      "metadata": {
        "colab": {
          "base_uri": "https://localhost:8080/"
        },
        "id": "Lf8DpF-wEOpY",
        "outputId": "5f01037a-4b00-453c-f211-7892549083a5"
      },
      "execution_count": null,
      "outputs": [
        {
          "output_type": "stream",
          "name": "stdout",
          "text": [
            "       cik ticker          entity\n",
            "0  1045810   NVDA     NVIDIA CORP\n",
            "1   789019   MSFT  MICROSOFT CORP\n",
            "2   320193   AAPL      Apple Inc.\n",
            "3  1652044  GOOGL   Alphabet Inc.\n",
            "4  1018724   AMZN  AMAZON COM INC\n"
          ]
        }
      ]
    },
    {
      "cell_type": "code",
      "source": [
        "# Merge ticker mapping\n",
        "df_processed = df_processed.merge(df_map[[\"cik\", \"ticker\"]], on=\"cik\", how=\"left\", suffixes=(\"\", \"_map\"))\n",
        "\n",
        "# Prefer SEC ticker if missing in extracted data\n",
        "df_processed[\"ticker\"] = df_processed[\"ticker\"].fillna(df_processed[\"ticker_map\"])\n",
        "df_processed = df_processed.drop(columns=[\"ticker_map\"])\n"
      ],
      "metadata": {
        "id": "Y_8VgGONE-ix"
      },
      "execution_count": null,
      "outputs": []
    },
    {
      "cell_type": "code",
      "source": [
        "print(df_processed.head())"
      ],
      "metadata": {
        "colab": {
          "base_uri": "https://localhost:8080/"
        },
        "id": "v_LNNqzxFLvV",
        "outputId": "47ef273e-8fc9-4cfe-8d05-045ed9b2b7ae"
      },
      "execution_count": null,
      "outputs": [
        {
          "output_type": "stream",
          "name": "stdout",
          "text": [
            "    cik ticker               entity  year        assets        equity  \\\n",
            "0  1750    AIR             AAR CORP  2009  1.501042e+09  7.469060e+08   \n",
            "1  1750    AIR             AAR CORP  2010  1.501042e+09  7.469060e+08   \n",
            "2  1750    AIR             AAR CORP  2020  1.501042e+09  7.469060e+08   \n",
            "3  1800    ABT  ABBOTT LABORATORIES  2007  3.971392e+10  1.777854e+10   \n",
            "4  1800    ABT  ABBOTT LABORATORIES  2008  3.971392e+10  1.777854e+10   \n",
            "\n",
            "    liabilities    net_income  public_float       revenue  shares_outstanding  \\\n",
            "0  1.501042e+09  5.677200e+07  9.345680e+08  9.800000e+06        3.966282e+07   \n",
            "1  1.501042e+09  5.677200e+07  9.345680e+08  9.800000e+06        3.966282e+07   \n",
            "2  1.501042e+09  5.677200e+07  9.345680e+08  9.800000e+06        3.966282e+07   \n",
            "3  3.971392e+10  4.728000e+09  7.877102e+10  2.085300e+10        1.545912e+09   \n",
            "4  3.971392e+10  4.728000e+09  7.877102e+10  2.085300e+10        1.545912e+09   \n",
            "\n",
            "        ROE       ROA  DebtToEquity  ProfitMargin  AssetTurnover  EquityRatio  \\\n",
            "0  0.076010  0.037822      2.009680      5.793061       0.006529     0.497592   \n",
            "1  0.076010  0.037822      2.009680      5.793061       0.006529     0.497592   \n",
            "2  0.076010  0.037822      2.009680      5.793061       0.006529     0.497592   \n",
            "3  0.265939  0.119051      2.233812      0.226730       0.525080     0.447665   \n",
            "4  0.265939  0.119051      2.233812      0.226730       0.525080     0.447665   \n",
            "\n",
            "        EPS  CurrentRatio   FloatPct  \n",
            "0  1.431366           1.0  23.562825  \n",
            "1  1.431366           1.0  23.562825  \n",
            "2  1.431366           1.0  23.562825  \n",
            "3  3.058388           1.0  50.954384  \n",
            "4  3.058388           1.0  50.954384  \n"
          ]
        }
      ]
    },
    {
      "cell_type": "code",
      "source": [
        "import yfinance as yf\n",
        "import numpy as np\n",
        "\n",
        "def add_extra_ratios(df):\n",
        "    pe_list, pb_list, div_yield_list, roi_list = [], [], [], []\n",
        "\n",
        "    for _, row in df.iterrows():\n",
        "        ticker = row[\"ticker\"]\n",
        "        eps = row.get(\"EPS\", np.nan)\n",
        "        equity = row.get(\"equity\", np.nan)\n",
        "        shares = row.get(\"shares_outstanding\", np.nan)\n",
        "        net_income = row.get(\"net_income\", np.nan)\n",
        "        assets = row.get(\"assets\", np.nan)\n",
        "\n",
        "        if ticker and isinstance(ticker, str):\n",
        "            try:\n",
        "                stock = yf.Ticker(ticker)\n",
        "                info = stock.info\n",
        "                price = info.get(\"currentPrice\", np.nan)\n",
        "\n",
        "                # --- P/E Ratio ---\n",
        "                pe = price / eps if eps and eps != 0 else np.nan\n",
        "\n",
        "                # --- P/B Ratio ---\n",
        "                book_value_per_share = (equity / shares) if shares and equity else np.nan\n",
        "                pb = price / book_value_per_share if book_value_per_share else np.nan\n",
        "\n",
        "                # --- Dividend Yield ---\n",
        "                div_yield = info.get(\"dividendYield\", np.nan)\n",
        "\n",
        "            except Exception:\n",
        "                pe, pb, div_yield = np.nan, np.nan, np.nan\n",
        "        else:\n",
        "            pe, pb, div_yield = np.nan, np.nan, np.nan\n",
        "\n",
        "        # --- ROI (Net Income / Assets) ---\n",
        "        roi = (net_income / assets) if assets and net_income else np.nan\n",
        "\n",
        "        pe_list.append(pe)\n",
        "        pb_list.append(pb)\n",
        "        div_yield_list.append(div_yield)\n",
        "        roi_list.append(roi)\n",
        "\n",
        "    df[\"PE_Ratio\"] = pe_list\n",
        "    df[\"PB_Ratio\"] = pb_list\n",
        "    df[\"Dividend_Yield\"] = div_yield_list\n",
        "    df[\"ROI\"] = roi_list\n",
        "    return df\n"
      ],
      "metadata": {
        "id": "5XxdPoVLCZLo"
      },
      "execution_count": null,
      "outputs": []
    },
    {
      "cell_type": "code",
      "source": [
        "add_extra_ratios(df_processed)"
      ],
      "metadata": {
        "colab": {
          "base_uri": "https://localhost:8080/",
          "height": 634
        },
        "id": "-ppk5BfkLUhD",
        "outputId": "a1565dbb-c93c-4087-db6f-21ae38f27715"
      },
      "execution_count": null,
      "outputs": [
        {
          "output_type": "execute_result",
          "data": {
            "text/plain": [
              "           cik   ticker                              entity  year  \\\n",
              "0         1750      AIR                            AAR CORP  2009   \n",
              "1         1750      AIR                            AAR CORP  2010   \n",
              "2         1750      AIR                            AAR CORP  2020   \n",
              "3         1800      ABT                 ABBOTT LABORATORIES  2007   \n",
              "4         1800      ABT                 ABBOTT LABORATORIES  2008   \n",
              "...        ...      ...                                 ...   ...   \n",
              "58434  2065948    SOCAU  SOLARIUS CAPITAL ACQUISITION CORP.  2025   \n",
              "58435  2066067      NaN           Orielle Acquisition Corp.  2025   \n",
              "58436  2069238     PAII      PYROPHYTE ACQUISITION CORP. II  2025   \n",
              "58437  2069238  PAII-UN      PYROPHYTE ACQUISITION CORP. II  2025   \n",
              "58438  2071489      NaN               YELLOWSTONE GROUP LTD  2025   \n",
              "\n",
              "             assets        equity   liabilities    net_income  public_float  \\\n",
              "0      1.501042e+09  7.469060e+08  1.501042e+09  5.677200e+07  9.345680e+08   \n",
              "1      1.501042e+09  7.469060e+08  1.501042e+09  5.677200e+07  9.345680e+08   \n",
              "2      1.501042e+09  7.469060e+08  1.501042e+09  5.677200e+07  9.345680e+08   \n",
              "3      3.971392e+10  1.777854e+10  3.971392e+10  4.728000e+09  7.877102e+10   \n",
              "4      3.971392e+10  1.777854e+10  3.971392e+10  4.728000e+09  7.877102e+10   \n",
              "...             ...           ...           ...           ...           ...   \n",
              "58434  1.562090e+05  0.000000e+00  1.562090e+05 -7.701400e+04           NaN   \n",
              "58435  1.029900e+04 -1.421600e+04  1.029900e+04 -1.471600e+04           NaN   \n",
              "58436  2.171040e+05 -7.700000e+04  2.171040e+05 -1.020000e+05           NaN   \n",
              "58437  2.171040e+05 -7.700000e+04  2.171040e+05 -1.020000e+05           NaN   \n",
              "58438  1.313500e+04 -8.200000e+02  1.313500e+04  2.820000e+03           NaN   \n",
              "\n",
              "            revenue  ...  ProfitMargin  AssetTurnover  EquityRatio       EPS  \\\n",
              "0      9.800000e+06  ...      5.793061       0.006529     0.497592  1.431366   \n",
              "1      9.800000e+06  ...      5.793061       0.006529     0.497592  1.431366   \n",
              "2      9.800000e+06  ...      5.793061       0.006529     0.497592  1.431366   \n",
              "3      2.085300e+10  ...      0.226730       0.525080     0.447665  3.058388   \n",
              "4      2.085300e+10  ...      0.226730       0.525080     0.447665  3.058388   \n",
              "...             ...  ...           ...            ...          ...       ...   \n",
              "58434           NaN  ...           NaN            NaN     0.000000 -0.015403   \n",
              "58435           NaN  ...           NaN            NaN    -1.380328 -0.002943   \n",
              "58436           NaN  ...           NaN            NaN    -0.354669 -0.016166   \n",
              "58437           NaN  ...           NaN            NaN    -0.354669 -0.016166   \n",
              "58438  7.667000e+03  ...      0.367810       0.583708    -0.062429  0.000141   \n",
              "\n",
              "       CurrentRatio   FloatPct   PE_Ratio   PB_Ratio  Dividend_Yield       ROI  \n",
              "0               1.0  23.562825  52.872577   4.018822             NaN  0.037822  \n",
              "1               1.0  23.562825  52.872577   4.018822             NaN  0.037822  \n",
              "2               1.0  23.562825  52.872577   4.018822             NaN  0.037822  \n",
              "3               1.0  50.954384  43.218847  11.493559            1.79  0.119051  \n",
              "4               1.0  50.954384  43.218847  11.493559            1.79  0.119051  \n",
              "...             ...        ...        ...        ...             ...       ...  \n",
              "58434           1.0        NaN        NaN        NaN             NaN -0.493019  \n",
              "58435           1.0        NaN        NaN        NaN             NaN -1.428877  \n",
              "58436           1.0        NaN        NaN        NaN             NaN -0.469821  \n",
              "58437           1.0        NaN        NaN        NaN             NaN -0.469821  \n",
              "58438           1.0        NaN        NaN        NaN             NaN  0.214694  \n",
              "\n",
              "[58439 rows x 24 columns]"
            ],
            "text/html": [
              "\n",
              "  <div id=\"df-042b12b7-5fcc-4b8e-ad5b-86e1d4a20525\" class=\"colab-df-container\">\n",
              "    <div>\n",
              "<style scoped>\n",
              "    .dataframe tbody tr th:only-of-type {\n",
              "        vertical-align: middle;\n",
              "    }\n",
              "\n",
              "    .dataframe tbody tr th {\n",
              "        vertical-align: top;\n",
              "    }\n",
              "\n",
              "    .dataframe thead th {\n",
              "        text-align: right;\n",
              "    }\n",
              "</style>\n",
              "<table border=\"1\" class=\"dataframe\">\n",
              "  <thead>\n",
              "    <tr style=\"text-align: right;\">\n",
              "      <th></th>\n",
              "      <th>cik</th>\n",
              "      <th>ticker</th>\n",
              "      <th>entity</th>\n",
              "      <th>year</th>\n",
              "      <th>assets</th>\n",
              "      <th>equity</th>\n",
              "      <th>liabilities</th>\n",
              "      <th>net_income</th>\n",
              "      <th>public_float</th>\n",
              "      <th>revenue</th>\n",
              "      <th>...</th>\n",
              "      <th>ProfitMargin</th>\n",
              "      <th>AssetTurnover</th>\n",
              "      <th>EquityRatio</th>\n",
              "      <th>EPS</th>\n",
              "      <th>CurrentRatio</th>\n",
              "      <th>FloatPct</th>\n",
              "      <th>PE_Ratio</th>\n",
              "      <th>PB_Ratio</th>\n",
              "      <th>Dividend_Yield</th>\n",
              "      <th>ROI</th>\n",
              "    </tr>\n",
              "  </thead>\n",
              "  <tbody>\n",
              "    <tr>\n",
              "      <th>0</th>\n",
              "      <td>1750</td>\n",
              "      <td>AIR</td>\n",
              "      <td>AAR CORP</td>\n",
              "      <td>2009</td>\n",
              "      <td>1.501042e+09</td>\n",
              "      <td>7.469060e+08</td>\n",
              "      <td>1.501042e+09</td>\n",
              "      <td>5.677200e+07</td>\n",
              "      <td>9.345680e+08</td>\n",
              "      <td>9.800000e+06</td>\n",
              "      <td>...</td>\n",
              "      <td>5.793061</td>\n",
              "      <td>0.006529</td>\n",
              "      <td>0.497592</td>\n",
              "      <td>1.431366</td>\n",
              "      <td>1.0</td>\n",
              "      <td>23.562825</td>\n",
              "      <td>52.872577</td>\n",
              "      <td>4.018822</td>\n",
              "      <td>NaN</td>\n",
              "      <td>0.037822</td>\n",
              "    </tr>\n",
              "    <tr>\n",
              "      <th>1</th>\n",
              "      <td>1750</td>\n",
              "      <td>AIR</td>\n",
              "      <td>AAR CORP</td>\n",
              "      <td>2010</td>\n",
              "      <td>1.501042e+09</td>\n",
              "      <td>7.469060e+08</td>\n",
              "      <td>1.501042e+09</td>\n",
              "      <td>5.677200e+07</td>\n",
              "      <td>9.345680e+08</td>\n",
              "      <td>9.800000e+06</td>\n",
              "      <td>...</td>\n",
              "      <td>5.793061</td>\n",
              "      <td>0.006529</td>\n",
              "      <td>0.497592</td>\n",
              "      <td>1.431366</td>\n",
              "      <td>1.0</td>\n",
              "      <td>23.562825</td>\n",
              "      <td>52.872577</td>\n",
              "      <td>4.018822</td>\n",
              "      <td>NaN</td>\n",
              "      <td>0.037822</td>\n",
              "    </tr>\n",
              "    <tr>\n",
              "      <th>2</th>\n",
              "      <td>1750</td>\n",
              "      <td>AIR</td>\n",
              "      <td>AAR CORP</td>\n",
              "      <td>2020</td>\n",
              "      <td>1.501042e+09</td>\n",
              "      <td>7.469060e+08</td>\n",
              "      <td>1.501042e+09</td>\n",
              "      <td>5.677200e+07</td>\n",
              "      <td>9.345680e+08</td>\n",
              "      <td>9.800000e+06</td>\n",
              "      <td>...</td>\n",
              "      <td>5.793061</td>\n",
              "      <td>0.006529</td>\n",
              "      <td>0.497592</td>\n",
              "      <td>1.431366</td>\n",
              "      <td>1.0</td>\n",
              "      <td>23.562825</td>\n",
              "      <td>52.872577</td>\n",
              "      <td>4.018822</td>\n",
              "      <td>NaN</td>\n",
              "      <td>0.037822</td>\n",
              "    </tr>\n",
              "    <tr>\n",
              "      <th>3</th>\n",
              "      <td>1800</td>\n",
              "      <td>ABT</td>\n",
              "      <td>ABBOTT LABORATORIES</td>\n",
              "      <td>2007</td>\n",
              "      <td>3.971392e+10</td>\n",
              "      <td>1.777854e+10</td>\n",
              "      <td>3.971392e+10</td>\n",
              "      <td>4.728000e+09</td>\n",
              "      <td>7.877102e+10</td>\n",
              "      <td>2.085300e+10</td>\n",
              "      <td>...</td>\n",
              "      <td>0.226730</td>\n",
              "      <td>0.525080</td>\n",
              "      <td>0.447665</td>\n",
              "      <td>3.058388</td>\n",
              "      <td>1.0</td>\n",
              "      <td>50.954384</td>\n",
              "      <td>43.218847</td>\n",
              "      <td>11.493559</td>\n",
              "      <td>1.79</td>\n",
              "      <td>0.119051</td>\n",
              "    </tr>\n",
              "    <tr>\n",
              "      <th>4</th>\n",
              "      <td>1800</td>\n",
              "      <td>ABT</td>\n",
              "      <td>ABBOTT LABORATORIES</td>\n",
              "      <td>2008</td>\n",
              "      <td>3.971392e+10</td>\n",
              "      <td>1.777854e+10</td>\n",
              "      <td>3.971392e+10</td>\n",
              "      <td>4.728000e+09</td>\n",
              "      <td>7.877102e+10</td>\n",
              "      <td>2.085300e+10</td>\n",
              "      <td>...</td>\n",
              "      <td>0.226730</td>\n",
              "      <td>0.525080</td>\n",
              "      <td>0.447665</td>\n",
              "      <td>3.058388</td>\n",
              "      <td>1.0</td>\n",
              "      <td>50.954384</td>\n",
              "      <td>43.218847</td>\n",
              "      <td>11.493559</td>\n",
              "      <td>1.79</td>\n",
              "      <td>0.119051</td>\n",
              "    </tr>\n",
              "    <tr>\n",
              "      <th>...</th>\n",
              "      <td>...</td>\n",
              "      <td>...</td>\n",
              "      <td>...</td>\n",
              "      <td>...</td>\n",
              "      <td>...</td>\n",
              "      <td>...</td>\n",
              "      <td>...</td>\n",
              "      <td>...</td>\n",
              "      <td>...</td>\n",
              "      <td>...</td>\n",
              "      <td>...</td>\n",
              "      <td>...</td>\n",
              "      <td>...</td>\n",
              "      <td>...</td>\n",
              "      <td>...</td>\n",
              "      <td>...</td>\n",
              "      <td>...</td>\n",
              "      <td>...</td>\n",
              "      <td>...</td>\n",
              "      <td>...</td>\n",
              "      <td>...</td>\n",
              "    </tr>\n",
              "    <tr>\n",
              "      <th>58434</th>\n",
              "      <td>2065948</td>\n",
              "      <td>SOCAU</td>\n",
              "      <td>SOLARIUS CAPITAL ACQUISITION CORP.</td>\n",
              "      <td>2025</td>\n",
              "      <td>1.562090e+05</td>\n",
              "      <td>0.000000e+00</td>\n",
              "      <td>1.562090e+05</td>\n",
              "      <td>-7.701400e+04</td>\n",
              "      <td>NaN</td>\n",
              "      <td>NaN</td>\n",
              "      <td>...</td>\n",
              "      <td>NaN</td>\n",
              "      <td>NaN</td>\n",
              "      <td>0.000000</td>\n",
              "      <td>-0.015403</td>\n",
              "      <td>1.0</td>\n",
              "      <td>NaN</td>\n",
              "      <td>NaN</td>\n",
              "      <td>NaN</td>\n",
              "      <td>NaN</td>\n",
              "      <td>-0.493019</td>\n",
              "    </tr>\n",
              "    <tr>\n",
              "      <th>58435</th>\n",
              "      <td>2066067</td>\n",
              "      <td>NaN</td>\n",
              "      <td>Orielle Acquisition Corp.</td>\n",
              "      <td>2025</td>\n",
              "      <td>1.029900e+04</td>\n",
              "      <td>-1.421600e+04</td>\n",
              "      <td>1.029900e+04</td>\n",
              "      <td>-1.471600e+04</td>\n",
              "      <td>NaN</td>\n",
              "      <td>NaN</td>\n",
              "      <td>...</td>\n",
              "      <td>NaN</td>\n",
              "      <td>NaN</td>\n",
              "      <td>-1.380328</td>\n",
              "      <td>-0.002943</td>\n",
              "      <td>1.0</td>\n",
              "      <td>NaN</td>\n",
              "      <td>NaN</td>\n",
              "      <td>NaN</td>\n",
              "      <td>NaN</td>\n",
              "      <td>-1.428877</td>\n",
              "    </tr>\n",
              "    <tr>\n",
              "      <th>58436</th>\n",
              "      <td>2069238</td>\n",
              "      <td>PAII</td>\n",
              "      <td>PYROPHYTE ACQUISITION CORP. II</td>\n",
              "      <td>2025</td>\n",
              "      <td>2.171040e+05</td>\n",
              "      <td>-7.700000e+04</td>\n",
              "      <td>2.171040e+05</td>\n",
              "      <td>-1.020000e+05</td>\n",
              "      <td>NaN</td>\n",
              "      <td>NaN</td>\n",
              "      <td>...</td>\n",
              "      <td>NaN</td>\n",
              "      <td>NaN</td>\n",
              "      <td>-0.354669</td>\n",
              "      <td>-0.016166</td>\n",
              "      <td>1.0</td>\n",
              "      <td>NaN</td>\n",
              "      <td>NaN</td>\n",
              "      <td>NaN</td>\n",
              "      <td>NaN</td>\n",
              "      <td>-0.469821</td>\n",
              "    </tr>\n",
              "    <tr>\n",
              "      <th>58437</th>\n",
              "      <td>2069238</td>\n",
              "      <td>PAII-UN</td>\n",
              "      <td>PYROPHYTE ACQUISITION CORP. II</td>\n",
              "      <td>2025</td>\n",
              "      <td>2.171040e+05</td>\n",
              "      <td>-7.700000e+04</td>\n",
              "      <td>2.171040e+05</td>\n",
              "      <td>-1.020000e+05</td>\n",
              "      <td>NaN</td>\n",
              "      <td>NaN</td>\n",
              "      <td>...</td>\n",
              "      <td>NaN</td>\n",
              "      <td>NaN</td>\n",
              "      <td>-0.354669</td>\n",
              "      <td>-0.016166</td>\n",
              "      <td>1.0</td>\n",
              "      <td>NaN</td>\n",
              "      <td>NaN</td>\n",
              "      <td>NaN</td>\n",
              "      <td>NaN</td>\n",
              "      <td>-0.469821</td>\n",
              "    </tr>\n",
              "    <tr>\n",
              "      <th>58438</th>\n",
              "      <td>2071489</td>\n",
              "      <td>NaN</td>\n",
              "      <td>YELLOWSTONE GROUP LTD</td>\n",
              "      <td>2025</td>\n",
              "      <td>1.313500e+04</td>\n",
              "      <td>-8.200000e+02</td>\n",
              "      <td>1.313500e+04</td>\n",
              "      <td>2.820000e+03</td>\n",
              "      <td>NaN</td>\n",
              "      <td>7.667000e+03</td>\n",
              "      <td>...</td>\n",
              "      <td>0.367810</td>\n",
              "      <td>0.583708</td>\n",
              "      <td>-0.062429</td>\n",
              "      <td>0.000141</td>\n",
              "      <td>1.0</td>\n",
              "      <td>NaN</td>\n",
              "      <td>NaN</td>\n",
              "      <td>NaN</td>\n",
              "      <td>NaN</td>\n",
              "      <td>0.214694</td>\n",
              "    </tr>\n",
              "  </tbody>\n",
              "</table>\n",
              "<p>58439 rows × 24 columns</p>\n",
              "</div>\n",
              "    <div class=\"colab-df-buttons\">\n",
              "\n",
              "  <div class=\"colab-df-container\">\n",
              "    <button class=\"colab-df-convert\" onclick=\"convertToInteractive('df-042b12b7-5fcc-4b8e-ad5b-86e1d4a20525')\"\n",
              "            title=\"Convert this dataframe to an interactive table.\"\n",
              "            style=\"display:none;\">\n",
              "\n",
              "  <svg xmlns=\"http://www.w3.org/2000/svg\" height=\"24px\" viewBox=\"0 -960 960 960\">\n",
              "    <path d=\"M120-120v-720h720v720H120Zm60-500h600v-160H180v160Zm220 220h160v-160H400v160Zm0 220h160v-160H400v160ZM180-400h160v-160H180v160Zm440 0h160v-160H620v160ZM180-180h160v-160H180v160Zm440 0h160v-160H620v160Z\"/>\n",
              "  </svg>\n",
              "    </button>\n",
              "\n",
              "  <style>\n",
              "    .colab-df-container {\n",
              "      display:flex;\n",
              "      gap: 12px;\n",
              "    }\n",
              "\n",
              "    .colab-df-convert {\n",
              "      background-color: #E8F0FE;\n",
              "      border: none;\n",
              "      border-radius: 50%;\n",
              "      cursor: pointer;\n",
              "      display: none;\n",
              "      fill: #1967D2;\n",
              "      height: 32px;\n",
              "      padding: 0 0 0 0;\n",
              "      width: 32px;\n",
              "    }\n",
              "\n",
              "    .colab-df-convert:hover {\n",
              "      background-color: #E2EBFA;\n",
              "      box-shadow: 0px 1px 2px rgba(60, 64, 67, 0.3), 0px 1px 3px 1px rgba(60, 64, 67, 0.15);\n",
              "      fill: #174EA6;\n",
              "    }\n",
              "\n",
              "    .colab-df-buttons div {\n",
              "      margin-bottom: 4px;\n",
              "    }\n",
              "\n",
              "    [theme=dark] .colab-df-convert {\n",
              "      background-color: #3B4455;\n",
              "      fill: #D2E3FC;\n",
              "    }\n",
              "\n",
              "    [theme=dark] .colab-df-convert:hover {\n",
              "      background-color: #434B5C;\n",
              "      box-shadow: 0px 1px 3px 1px rgba(0, 0, 0, 0.15);\n",
              "      filter: drop-shadow(0px 1px 2px rgba(0, 0, 0, 0.3));\n",
              "      fill: #FFFFFF;\n",
              "    }\n",
              "  </style>\n",
              "\n",
              "    <script>\n",
              "      const buttonEl =\n",
              "        document.querySelector('#df-042b12b7-5fcc-4b8e-ad5b-86e1d4a20525 button.colab-df-convert');\n",
              "      buttonEl.style.display =\n",
              "        google.colab.kernel.accessAllowed ? 'block' : 'none';\n",
              "\n",
              "      async function convertToInteractive(key) {\n",
              "        const element = document.querySelector('#df-042b12b7-5fcc-4b8e-ad5b-86e1d4a20525');\n",
              "        const dataTable =\n",
              "          await google.colab.kernel.invokeFunction('convertToInteractive',\n",
              "                                                    [key], {});\n",
              "        if (!dataTable) return;\n",
              "\n",
              "        const docLinkHtml = 'Like what you see? Visit the ' +\n",
              "          '<a target=\"_blank\" href=https://colab.research.google.com/notebooks/data_table.ipynb>data table notebook</a>'\n",
              "          + ' to learn more about interactive tables.';\n",
              "        element.innerHTML = '';\n",
              "        dataTable['output_type'] = 'display_data';\n",
              "        await google.colab.output.renderOutput(dataTable, element);\n",
              "        const docLink = document.createElement('div');\n",
              "        docLink.innerHTML = docLinkHtml;\n",
              "        element.appendChild(docLink);\n",
              "      }\n",
              "    </script>\n",
              "  </div>\n",
              "\n",
              "\n",
              "    <div id=\"df-54dccb56-7d02-4f8d-8af2-f897b0ddfae1\">\n",
              "      <button class=\"colab-df-quickchart\" onclick=\"quickchart('df-54dccb56-7d02-4f8d-8af2-f897b0ddfae1')\"\n",
              "                title=\"Suggest charts\"\n",
              "                style=\"display:none;\">\n",
              "\n",
              "<svg xmlns=\"http://www.w3.org/2000/svg\" height=\"24px\"viewBox=\"0 0 24 24\"\n",
              "     width=\"24px\">\n",
              "    <g>\n",
              "        <path d=\"M19 3H5c-1.1 0-2 .9-2 2v14c0 1.1.9 2 2 2h14c1.1 0 2-.9 2-2V5c0-1.1-.9-2-2-2zM9 17H7v-7h2v7zm4 0h-2V7h2v10zm4 0h-2v-4h2v4z\"/>\n",
              "    </g>\n",
              "</svg>\n",
              "      </button>\n",
              "\n",
              "<style>\n",
              "  .colab-df-quickchart {\n",
              "      --bg-color: #E8F0FE;\n",
              "      --fill-color: #1967D2;\n",
              "      --hover-bg-color: #E2EBFA;\n",
              "      --hover-fill-color: #174EA6;\n",
              "      --disabled-fill-color: #AAA;\n",
              "      --disabled-bg-color: #DDD;\n",
              "  }\n",
              "\n",
              "  [theme=dark] .colab-df-quickchart {\n",
              "      --bg-color: #3B4455;\n",
              "      --fill-color: #D2E3FC;\n",
              "      --hover-bg-color: #434B5C;\n",
              "      --hover-fill-color: #FFFFFF;\n",
              "      --disabled-bg-color: #3B4455;\n",
              "      --disabled-fill-color: #666;\n",
              "  }\n",
              "\n",
              "  .colab-df-quickchart {\n",
              "    background-color: var(--bg-color);\n",
              "    border: none;\n",
              "    border-radius: 50%;\n",
              "    cursor: pointer;\n",
              "    display: none;\n",
              "    fill: var(--fill-color);\n",
              "    height: 32px;\n",
              "    padding: 0;\n",
              "    width: 32px;\n",
              "  }\n",
              "\n",
              "  .colab-df-quickchart:hover {\n",
              "    background-color: var(--hover-bg-color);\n",
              "    box-shadow: 0 1px 2px rgba(60, 64, 67, 0.3), 0 1px 3px 1px rgba(60, 64, 67, 0.15);\n",
              "    fill: var(--button-hover-fill-color);\n",
              "  }\n",
              "\n",
              "  .colab-df-quickchart-complete:disabled,\n",
              "  .colab-df-quickchart-complete:disabled:hover {\n",
              "    background-color: var(--disabled-bg-color);\n",
              "    fill: var(--disabled-fill-color);\n",
              "    box-shadow: none;\n",
              "  }\n",
              "\n",
              "  .colab-df-spinner {\n",
              "    border: 2px solid var(--fill-color);\n",
              "    border-color: transparent;\n",
              "    border-bottom-color: var(--fill-color);\n",
              "    animation:\n",
              "      spin 1s steps(1) infinite;\n",
              "  }\n",
              "\n",
              "  @keyframes spin {\n",
              "    0% {\n",
              "      border-color: transparent;\n",
              "      border-bottom-color: var(--fill-color);\n",
              "      border-left-color: var(--fill-color);\n",
              "    }\n",
              "    20% {\n",
              "      border-color: transparent;\n",
              "      border-left-color: var(--fill-color);\n",
              "      border-top-color: var(--fill-color);\n",
              "    }\n",
              "    30% {\n",
              "      border-color: transparent;\n",
              "      border-left-color: var(--fill-color);\n",
              "      border-top-color: var(--fill-color);\n",
              "      border-right-color: var(--fill-color);\n",
              "    }\n",
              "    40% {\n",
              "      border-color: transparent;\n",
              "      border-right-color: var(--fill-color);\n",
              "      border-top-color: var(--fill-color);\n",
              "    }\n",
              "    60% {\n",
              "      border-color: transparent;\n",
              "      border-right-color: var(--fill-color);\n",
              "    }\n",
              "    80% {\n",
              "      border-color: transparent;\n",
              "      border-right-color: var(--fill-color);\n",
              "      border-bottom-color: var(--fill-color);\n",
              "    }\n",
              "    90% {\n",
              "      border-color: transparent;\n",
              "      border-bottom-color: var(--fill-color);\n",
              "    }\n",
              "  }\n",
              "</style>\n",
              "\n",
              "      <script>\n",
              "        async function quickchart(key) {\n",
              "          const quickchartButtonEl =\n",
              "            document.querySelector('#' + key + ' button');\n",
              "          quickchartButtonEl.disabled = true;  // To prevent multiple clicks.\n",
              "          quickchartButtonEl.classList.add('colab-df-spinner');\n",
              "          try {\n",
              "            const charts = await google.colab.kernel.invokeFunction(\n",
              "                'suggestCharts', [key], {});\n",
              "          } catch (error) {\n",
              "            console.error('Error during call to suggestCharts:', error);\n",
              "          }\n",
              "          quickchartButtonEl.classList.remove('colab-df-spinner');\n",
              "          quickchartButtonEl.classList.add('colab-df-quickchart-complete');\n",
              "        }\n",
              "        (() => {\n",
              "          let quickchartButtonEl =\n",
              "            document.querySelector('#df-54dccb56-7d02-4f8d-8af2-f897b0ddfae1 button');\n",
              "          quickchartButtonEl.style.display =\n",
              "            google.colab.kernel.accessAllowed ? 'block' : 'none';\n",
              "        })();\n",
              "      </script>\n",
              "    </div>\n",
              "\n",
              "  <div id=\"id_315189e6-6f9b-44c2-85a2-1645b60e7a73\">\n",
              "    <style>\n",
              "      .colab-df-generate {\n",
              "        background-color: #E8F0FE;\n",
              "        border: none;\n",
              "        border-radius: 50%;\n",
              "        cursor: pointer;\n",
              "        display: none;\n",
              "        fill: #1967D2;\n",
              "        height: 32px;\n",
              "        padding: 0 0 0 0;\n",
              "        width: 32px;\n",
              "      }\n",
              "\n",
              "      .colab-df-generate:hover {\n",
              "        background-color: #E2EBFA;\n",
              "        box-shadow: 0px 1px 2px rgba(60, 64, 67, 0.3), 0px 1px 3px 1px rgba(60, 64, 67, 0.15);\n",
              "        fill: #174EA6;\n",
              "      }\n",
              "\n",
              "      [theme=dark] .colab-df-generate {\n",
              "        background-color: #3B4455;\n",
              "        fill: #D2E3FC;\n",
              "      }\n",
              "\n",
              "      [theme=dark] .colab-df-generate:hover {\n",
              "        background-color: #434B5C;\n",
              "        box-shadow: 0px 1px 3px 1px rgba(0, 0, 0, 0.15);\n",
              "        filter: drop-shadow(0px 1px 2px rgba(0, 0, 0, 0.3));\n",
              "        fill: #FFFFFF;\n",
              "      }\n",
              "    </style>\n",
              "    <button class=\"colab-df-generate\" onclick=\"generateWithVariable('df_processed')\"\n",
              "            title=\"Generate code using this dataframe.\"\n",
              "            style=\"display:none;\">\n",
              "\n",
              "  <svg xmlns=\"http://www.w3.org/2000/svg\" height=\"24px\"viewBox=\"0 0 24 24\"\n",
              "       width=\"24px\">\n",
              "    <path d=\"M7,19H8.4L18.45,9,17,7.55,7,17.6ZM5,21V16.75L18.45,3.32a2,2,0,0,1,2.83,0l1.4,1.43a1.91,1.91,0,0,1,.58,1.4,1.91,1.91,0,0,1-.58,1.4L9.25,21ZM18.45,9,17,7.55Zm-12,3A5.31,5.31,0,0,0,4.9,8.1,5.31,5.31,0,0,0,1,6.5,5.31,5.31,0,0,0,4.9,4.9,5.31,5.31,0,0,0,6.5,1,5.31,5.31,0,0,0,8.1,4.9,5.31,5.31,0,0,0,12,6.5,5.46,5.46,0,0,0,6.5,12Z\"/>\n",
              "  </svg>\n",
              "    </button>\n",
              "    <script>\n",
              "      (() => {\n",
              "      const buttonEl =\n",
              "        document.querySelector('#id_315189e6-6f9b-44c2-85a2-1645b60e7a73 button.colab-df-generate');\n",
              "      buttonEl.style.display =\n",
              "        google.colab.kernel.accessAllowed ? 'block' : 'none';\n",
              "\n",
              "      buttonEl.onclick = () => {\n",
              "        google.colab.notebook.generateWithVariable('df_processed');\n",
              "      }\n",
              "      })();\n",
              "    </script>\n",
              "  </div>\n",
              "\n",
              "    </div>\n",
              "  </div>\n"
            ],
            "application/vnd.google.colaboratory.intrinsic+json": {
              "type": "dataframe",
              "variable_name": "df_processed"
            }
          },
          "metadata": {},
          "execution_count": 20
        }
      ]
    },
    {
      "cell_type": "code",
      "source": [
        "print(df_processed.head())"
      ],
      "metadata": {
        "colab": {
          "base_uri": "https://localhost:8080/"
        },
        "id": "yHjQy9fa109g",
        "outputId": "8921dfea-ac20-4369-a9fe-e9f7d072b570"
      },
      "execution_count": null,
      "outputs": [
        {
          "output_type": "stream",
          "name": "stdout",
          "text": [
            "    cik ticker               entity  year        assets        equity  \\\n",
            "0  1750    AIR             AAR CORP  2009  1.501042e+09  7.469060e+08   \n",
            "1  1750    AIR             AAR CORP  2010  1.501042e+09  7.469060e+08   \n",
            "2  1750    AIR             AAR CORP  2020  1.501042e+09  7.469060e+08   \n",
            "3  1800    ABT  ABBOTT LABORATORIES  2007  3.971392e+10  1.777854e+10   \n",
            "4  1800    ABT  ABBOTT LABORATORIES  2008  3.971392e+10  1.777854e+10   \n",
            "\n",
            "    liabilities    net_income  public_float       revenue  ...  ProfitMargin  \\\n",
            "0  1.501042e+09  5.677200e+07  9.345680e+08  9.800000e+06  ...      5.793061   \n",
            "1  1.501042e+09  5.677200e+07  9.345680e+08  9.800000e+06  ...      5.793061   \n",
            "2  1.501042e+09  5.677200e+07  9.345680e+08  9.800000e+06  ...      5.793061   \n",
            "3  3.971392e+10  4.728000e+09  7.877102e+10  2.085300e+10  ...      0.226730   \n",
            "4  3.971392e+10  4.728000e+09  7.877102e+10  2.085300e+10  ...      0.226730   \n",
            "\n",
            "   AssetTurnover  EquityRatio       EPS  CurrentRatio   FloatPct   PE_Ratio  \\\n",
            "0       0.006529     0.497592  1.431366           1.0  23.562825  52.872577   \n",
            "1       0.006529     0.497592  1.431366           1.0  23.562825  52.872577   \n",
            "2       0.006529     0.497592  1.431366           1.0  23.562825  52.872577   \n",
            "3       0.525080     0.447665  3.058388           1.0  50.954384  43.218847   \n",
            "4       0.525080     0.447665  3.058388           1.0  50.954384  43.218847   \n",
            "\n",
            "    PB_Ratio  Dividend_Yield       ROI  \n",
            "0   4.018822             NaN  0.037822  \n",
            "1   4.018822             NaN  0.037822  \n",
            "2   4.018822             NaN  0.037822  \n",
            "3  11.493559            1.79  0.119051  \n",
            "4  11.493559            1.79  0.119051  \n",
            "\n",
            "[5 rows x 24 columns]\n"
          ]
        }
      ]
    },
    {
      "cell_type": "code",
      "source": [
        "df_processed[\"Dividend_Yield\"] = df_processed[\"Dividend_Yield\"].fillna(0)"
      ],
      "metadata": {
        "id": "TnDyf-6i5_0y"
      },
      "execution_count": null,
      "outputs": []
    },
    {
      "cell_type": "code",
      "source": [
        "print(df_processed.shape)"
      ],
      "metadata": {
        "colab": {
          "base_uri": "https://localhost:8080/"
        },
        "id": "fGHWm2O46OmS",
        "outputId": "2044fa0c-a47c-49fc-9c9d-237b1d229936"
      },
      "execution_count": null,
      "outputs": [
        {
          "output_type": "stream",
          "name": "stdout",
          "text": [
            "(58439, 24)\n"
          ]
        }
      ]
    },
    {
      "cell_type": "code",
      "source": [
        "# Drop rows where ticker is missing\n",
        "# df_processed = df_processed[df_processed[\"ticker\"].notna()]\n"
      ],
      "metadata": {
        "id": "StfJ0TJj6N3J"
      },
      "execution_count": null,
      "outputs": []
    },
    {
      "cell_type": "code",
      "source": [
        "print(df_processed.shape)"
      ],
      "metadata": {
        "colab": {
          "base_uri": "https://localhost:8080/"
        },
        "id": "eI9yEk5C6b1m",
        "outputId": "268084ef-b5ec-4d1d-b5bf-202386fb5857"
      },
      "execution_count": null,
      "outputs": [
        {
          "output_type": "stream",
          "name": "stdout",
          "text": [
            "(58439, 24)\n"
          ]
        }
      ]
    },
    {
      "cell_type": "code",
      "source": [
        "df_processed = df_processed.rename(columns={\n",
        "    \"PE_Ratio\": \"P/E Ratio\",\n",
        "})"
      ],
      "metadata": {
        "id": "c21nYWni7SAx"
      },
      "execution_count": null,
      "outputs": []
    },
    {
      "cell_type": "code",
      "source": [
        "print(df_processed.head())"
      ],
      "metadata": {
        "colab": {
          "base_uri": "https://localhost:8080/"
        },
        "id": "sJJkLiBS7aGJ",
        "outputId": "a4045d5b-c001-45a1-eec9-db43cb744956"
      },
      "execution_count": null,
      "outputs": [
        {
          "output_type": "stream",
          "name": "stdout",
          "text": [
            "    cik ticker               entity  year        assets        equity  \\\n",
            "0  1750    AIR             AAR CORP  2009  1.501042e+09  7.469060e+08   \n",
            "1  1750    AIR             AAR CORP  2010  1.501042e+09  7.469060e+08   \n",
            "2  1750    AIR             AAR CORP  2020  1.501042e+09  7.469060e+08   \n",
            "3  1800    ABT  ABBOTT LABORATORIES  2007  3.971392e+10  1.777854e+10   \n",
            "4  1800    ABT  ABBOTT LABORATORIES  2008  3.971392e+10  1.777854e+10   \n",
            "\n",
            "    liabilities    net_income  public_float       revenue  ...  ProfitMargin  \\\n",
            "0  1.501042e+09  5.677200e+07  9.345680e+08  9.800000e+06  ...      5.793061   \n",
            "1  1.501042e+09  5.677200e+07  9.345680e+08  9.800000e+06  ...      5.793061   \n",
            "2  1.501042e+09  5.677200e+07  9.345680e+08  9.800000e+06  ...      5.793061   \n",
            "3  3.971392e+10  4.728000e+09  7.877102e+10  2.085300e+10  ...      0.226730   \n",
            "4  3.971392e+10  4.728000e+09  7.877102e+10  2.085300e+10  ...      0.226730   \n",
            "\n",
            "   AssetTurnover  EquityRatio       EPS  CurrentRatio   FloatPct  P/E Ratio  \\\n",
            "0       0.006529     0.497592  1.431366           1.0  23.562825  52.872577   \n",
            "1       0.006529     0.497592  1.431366           1.0  23.562825  52.872577   \n",
            "2       0.006529     0.497592  1.431366           1.0  23.562825  52.872577   \n",
            "3       0.525080     0.447665  3.058388           1.0  50.954384  43.218847   \n",
            "4       0.525080     0.447665  3.058388           1.0  50.954384  43.218847   \n",
            "\n",
            "    PB_Ratio  Dividend_Yield       ROI  \n",
            "0   4.018822            0.00  0.037822  \n",
            "1   4.018822            0.00  0.037822  \n",
            "2   4.018822            0.00  0.037822  \n",
            "3  11.493559            1.79  0.119051  \n",
            "4  11.493559            1.79  0.119051  \n",
            "\n",
            "[5 rows x 24 columns]\n"
          ]
        }
      ]
    },
    {
      "cell_type": "code",
      "source": [
        "import pandas as pd\n",
        "\n",
        "print(df_processed.info())       # Check for nulls and data types\n",
        "print(df_processed.isnull().sum())  # Count of nulls in each column\n",
        "print(df_processed.duplicated().sum())  # Check for duplicates\n"
      ],
      "metadata": {
        "colab": {
          "base_uri": "https://localhost:8080/"
        },
        "id": "7Xc8t8PB8AQ2",
        "outputId": "cd95f631-1fb0-4a42-e8db-1da353b0df8b"
      },
      "execution_count": null,
      "outputs": [
        {
          "output_type": "stream",
          "name": "stdout",
          "text": [
            "<class 'pandas.core.frame.DataFrame'>\n",
            "RangeIndex: 58439 entries, 0 to 58438\n",
            "Data columns (total 24 columns):\n",
            " #   Column              Non-Null Count  Dtype  \n",
            "---  ------              --------------  -----  \n",
            " 0   cik                 58439 non-null  int64  \n",
            " 1   ticker              28352 non-null  object \n",
            " 2   entity              58439 non-null  object \n",
            " 3   year                58439 non-null  int64  \n",
            " 4   assets              58330 non-null  float64\n",
            " 5   equity              57979 non-null  float64\n",
            " 6   liabilities         58386 non-null  float64\n",
            " 7   net_income          58293 non-null  float64\n",
            " 8   public_float        49420 non-null  float64\n",
            " 9   revenue             54457 non-null  float64\n",
            " 10  shares_outstanding  58052 non-null  float64\n",
            " 11  ROE                 54040 non-null  float64\n",
            " 12  ROA                 57119 non-null  float64\n",
            " 13  DebtToEquity        54097 non-null  float64\n",
            " 14  ProfitMargin        48193 non-null  float64\n",
            " 15  AssetTurnover       53500 non-null  float64\n",
            " 16  EquityRatio         56814 non-null  float64\n",
            " 17  EPS                 55642 non-null  float64\n",
            " 18  CurrentRatio        57171 non-null  float64\n",
            " 19  FloatPct            44271 non-null  float64\n",
            " 20  P/E Ratio           1079 non-null   float64\n",
            " 21  PB_Ratio            1079 non-null   float64\n",
            " 22  Dividend_Yield      58439 non-null  float64\n",
            " 23  ROI                 56430 non-null  float64\n",
            "dtypes: float64(20), int64(2), object(2)\n",
            "memory usage: 10.7+ MB\n",
            "None\n",
            "cik                       0\n",
            "ticker                30087\n",
            "entity                    0\n",
            "year                      0\n",
            "assets                  109\n",
            "equity                  460\n",
            "liabilities              53\n",
            "net_income              146\n",
            "public_float           9019\n",
            "revenue                3982\n",
            "shares_outstanding      387\n",
            "ROE                    4399\n",
            "ROA                    1320\n",
            "DebtToEquity           4342\n",
            "ProfitMargin          10246\n",
            "AssetTurnover          4939\n",
            "EquityRatio            1625\n",
            "EPS                    2797\n",
            "CurrentRatio           1268\n",
            "FloatPct              14168\n",
            "P/E Ratio             57360\n",
            "PB_Ratio              57360\n",
            "Dividend_Yield            0\n",
            "ROI                    2009\n",
            "dtype: int64\n",
            "0\n"
          ]
        }
      ]
    },
    {
      "cell_type": "code",
      "source": [
        "# Fill minor & moderate missing values with median\n",
        "numerical_cols = ['assets', 'equity', 'liabilities', 'net_income', 'public_float',\n",
        "                  'revenue', 'shares_outstanding', 'ROE', 'ROA', 'DebtToEquity',\n",
        "                  'ProfitMargin', 'AssetTurnover', 'EquityRatio', 'EPS',\n",
        "                  'CurrentRatio', 'FloatPct', 'ROI']\n",
        "\n",
        "for col in numerical_cols:\n",
        "    if col in df_processed.columns:\n",
        "        median_val = df_processed[col].median()\n",
        "        df_processed[col].fillna(median_val, inplace=True)\n",
        "\n",
        "# Remove duplicates\n",
        "df_processed.drop_duplicates(inplace=True)\n"
      ],
      "metadata": {
        "colab": {
          "base_uri": "https://localhost:8080/"
        },
        "id": "HH6puj_h9BSC",
        "outputId": "16129509-5f92-4d86-e3b7-e61327f887ea"
      },
      "execution_count": null,
      "outputs": [
        {
          "output_type": "stream",
          "name": "stderr",
          "text": [
            "/tmp/ipython-input-215498159.py:10: FutureWarning: A value is trying to be set on a copy of a DataFrame or Series through chained assignment using an inplace method.\n",
            "The behavior will change in pandas 3.0. This inplace method will never work because the intermediate object on which we are setting values always behaves as a copy.\n",
            "\n",
            "For example, when doing 'df[col].method(value, inplace=True)', try using 'df.method({col: value}, inplace=True)' or df[col] = df[col].method(value) instead, to perform the operation inplace on the original object.\n",
            "\n",
            "\n",
            "  df_processed[col].fillna(median_val, inplace=True)\n"
          ]
        }
      ]
    },
    {
      "cell_type": "code",
      "source": [
        "print(df_processed.shape)"
      ],
      "metadata": {
        "colab": {
          "base_uri": "https://localhost:8080/"
        },
        "id": "xwMfjVcP9KLt",
        "outputId": "d121810f-5708-4109-dd35-162e65b9a629"
      },
      "execution_count": null,
      "outputs": [
        {
          "output_type": "stream",
          "name": "stdout",
          "text": [
            "(58439, 24)\n"
          ]
        }
      ]
    },
    {
      "cell_type": "code",
      "source": [
        "import yfinance as yf\n",
        "import pandas as pd\n",
        "from concurrent.futures import ThreadPoolExecutor, as_completed\n",
        "\n",
        "# Ensure tickers are strings and remove NaNs\n",
        "df_processed = df_processed[df_processed['ticker'].notnull()].copy()\n",
        "df_processed['ticker'] = df_processed['ticker'].astype(str)\n",
        "\n",
        "tickers = df_processed['ticker'].unique()\n",
        "years = df_processed['year'].unique()\n",
        "\n",
        "# Function to fetch yearly average prices for a single ticker\n",
        "def fetch_ticker_prices(ticker):\n",
        "    if ticker.strip() == '':\n",
        "        return None\n",
        "    try:\n",
        "        data = yf.Ticker(ticker)\n",
        "        hist = data.history(start=\"1900-01-01\", end=\"2030-12-31\")\n",
        "        if hist.empty:\n",
        "            return None\n",
        "        hist['year'] = hist.index.year\n",
        "        yearly_avg = hist.groupby('year')['Close'].mean().reset_index()\n",
        "        yearly_avg['ticker'] = ticker\n",
        "        return yearly_avg\n",
        "    except:\n",
        "        return None\n",
        "\n",
        "# Use ThreadPoolExecutor to fetch tickers in parallel\n",
        "price_records = []\n",
        "with ThreadPoolExecutor(max_workers=10) as executor:\n",
        "    future_to_ticker = {executor.submit(fetch_ticker_prices, ticker): ticker for ticker in tickers}\n",
        "    for future in as_completed(future_to_ticker):\n",
        "        result = future.result()\n",
        "        if result is not None:\n",
        "            price_records.append(result)\n",
        "\n",
        "# Combine results into a DataFrame\n",
        "df_prices = pd.concat(price_records, ignore_index=True)\n",
        "df_prices.rename(columns={'Close': 'ticker_price'}, inplace=True)\n",
        "\n",
        "# Keep only years present in dataset\n",
        "df_prices = df_prices[df_prices['year'].isin(years)]\n",
        "\n",
        "# Fill missing years per ticker using nearest available price\n",
        "df_prices = df_prices.sort_values(['ticker', 'year'])\n",
        "df_prices['ticker_price'] = df_prices.groupby('ticker')['ticker_price'].ffill().bfill()\n",
        "\n",
        "# Merge with main dataset\n",
        "df_processed = df_processed.merge(df_prices[['ticker','year','ticker_price']], on=['ticker','year'], how='left')\n",
        "\n",
        "# Save for caching\n",
        "df_prices.to_csv(\"ticker_prices.csv\", index=False)\n",
        "\n",
        "print(df_processed[['ticker','year','ticker_price']].head(10))\n"
      ],
      "metadata": {
        "colab": {
          "base_uri": "https://localhost:8080/"
        },
        "id": "HBHDwkk5LnkR",
        "outputId": "fb05bb3d-4cb3-4f02-c55f-2c557f73d3db"
      },
      "execution_count": null,
      "outputs": [
        {
          "output_type": "stream",
          "name": "stdout",
          "text": [
            "  ticker  year  ticker_price\n",
            "0    AIR  2009           NaN\n",
            "1    AIR  2010           NaN\n",
            "2    AIR  2020           NaN\n",
            "3    ABT  2007           NaN\n",
            "4    ABT  2008           NaN\n",
            "5    ABT  2009           NaN\n",
            "6    ABT  2011           NaN\n",
            "7    ABT  2016           NaN\n",
            "8    ACU  2009           NaN\n",
            "9    ACU  2010           NaN\n"
          ]
        }
      ]
    },
    {
      "cell_type": "code",
      "source": [
        "# Replace '.' with '-' for tickers like BRK.B → BRK-B\n",
        "df_processed['ticker'] = df_processed['ticker'].str.replace('.', '-', regex=False)\n"
      ],
      "metadata": {
        "id": "VVzaWk_MMCTP"
      },
      "execution_count": null,
      "outputs": []
    },
    {
      "cell_type": "code",
      "source": [
        "print(df_prices.shape)\n",
        "print(df_prices.head())\n"
      ],
      "metadata": {
        "colab": {
          "base_uri": "https://localhost:8080/"
        },
        "id": "58PRXMdvMXwQ",
        "outputId": "4576f891-db97-4926-ebd0-d811b9e4312b"
      },
      "execution_count": null,
      "outputs": [
        {
          "output_type": "stream",
          "name": "stdout",
          "text": [
            "(516, 3)\n",
            "     year  ticker_price ticker\n",
            "187  2017      9.755820   ACEL\n",
            "188  2018      9.935649   ACEL\n",
            "189  2019     10.402464   ACEL\n",
            "190  2020     10.331225   ACEL\n",
            "191  2021     11.831508   ACEL\n"
          ]
        }
      ]
    },
    {
      "cell_type": "code",
      "source": [
        "# First, sort\n",
        "df_prices = df_prices.sort_values(['ticker', 'year'])\n",
        "\n",
        "# Forward and backward fill per ticker\n",
        "df_prices['ticker_price'] = df_prices.groupby('ticker')['ticker_price'].ffill().bfill()\n",
        "\n",
        "# Merge with main dataset\n",
        "df_processed = df_processed.merge(df_prices[['ticker','year','ticker_price']], on=['ticker','year'], how='left')\n",
        "\n",
        "# Fill remaining NaNs with overall median\n",
        "median_price = df_processed['ticker_price'].median()\n",
        "df_processed['ticker_price'].fillna(median_price, inplace=True)\n"
      ],
      "metadata": {
        "colab": {
          "base_uri": "https://localhost:8080/"
        },
        "id": "C4WyXG0HMGHx",
        "outputId": "d5e91953-5caf-4ebd-f4a3-76f689bf7f16"
      },
      "execution_count": null,
      "outputs": [
        {
          "output_type": "stream",
          "name": "stderr",
          "text": [
            "/tmp/ipython-input-2144405430.py:12: FutureWarning: A value is trying to be set on a copy of a DataFrame or Series through chained assignment using an inplace method.\n",
            "The behavior will change in pandas 3.0. This inplace method will never work because the intermediate object on which we are setting values always behaves as a copy.\n",
            "\n",
            "For example, when doing 'df[col].method(value, inplace=True)', try using 'df.method({col: value}, inplace=True)' or df[col] = df[col].method(value) instead, to perform the operation inplace on the original object.\n",
            "\n",
            "\n",
            "  df_processed['ticker_price'].fillna(median_price, inplace=True)\n"
          ]
        }
      ]
    },
    {
      "cell_type": "code",
      "source": [
        "import numpy as np\n",
        "\n",
        "df_processed['P/E Ratio'] = df_processed.apply(\n",
        "    lambda x: x['P/E Ratio'] if pd.notnull(x['P/E Ratio'])\n",
        "    else (x['ticker_price'] / x['EPS'] if x['EPS'] and x['EPS'] > 0 else np.nan), axis=1\n",
        ")\n",
        "\n",
        "df_processed['PB_Ratio'] = df_processed.apply(\n",
        "    lambda x: x['PB_Ratio'] if pd.notnull(x['PB_Ratio'])\n",
        "    else (x['ticker_price'] / (x['equity'] / x['shares_outstanding'])\n",
        "          if x['shares_outstanding'] and x['shares_outstanding'] > 0 and x['equity'] and x['equity'] > 0\n",
        "          else np.nan), axis=1\n",
        ")\n"
      ],
      "metadata": {
        "id": "jg0uVVOU-uVc"
      },
      "execution_count": null,
      "outputs": []
    },
    {
      "cell_type": "code",
      "source": [
        "print(df_processed.shape)\n",
        "print(df_processed.head())"
      ],
      "metadata": {
        "colab": {
          "base_uri": "https://localhost:8080/"
        },
        "id": "UPBYnAkqOLpy",
        "outputId": "47b9b2ad-1482-4243-8391-1ac140f0343b"
      },
      "execution_count": null,
      "outputs": [
        {
          "output_type": "stream",
          "name": "stdout",
          "text": [
            "(28352, 27)\n",
            "    cik ticker               entity  year        assets        equity  \\\n",
            "0  1750    AIR             AAR CORP  2009  1.501042e+09  7.469060e+08   \n",
            "1  1750    AIR             AAR CORP  2010  1.501042e+09  7.469060e+08   \n",
            "2  1750    AIR             AAR CORP  2020  1.501042e+09  7.469060e+08   \n",
            "3  1800    ABT  ABBOTT LABORATORIES  2007  3.971392e+10  1.777854e+10   \n",
            "4  1800    ABT  ABBOTT LABORATORIES  2008  3.971392e+10  1.777854e+10   \n",
            "\n",
            "    liabilities    net_income  public_float       revenue  ...       EPS  \\\n",
            "0  1.501042e+09  5.677200e+07  9.345680e+08  9.800000e+06  ...  1.431366   \n",
            "1  1.501042e+09  5.677200e+07  9.345680e+08  9.800000e+06  ...  1.431366   \n",
            "2  1.501042e+09  5.677200e+07  9.345680e+08  9.800000e+06  ...  1.431366   \n",
            "3  3.971392e+10  4.728000e+09  7.877102e+10  2.085300e+10  ...  3.058388   \n",
            "4  3.971392e+10  4.728000e+09  7.877102e+10  2.085300e+10  ...  3.058388   \n",
            "\n",
            "   CurrentRatio   FloatPct  P/E Ratio   PB_Ratio  Dividend_Yield       ROI  \\\n",
            "0           1.0  23.562825  52.872577   4.018822            0.00  0.037822   \n",
            "1           1.0  23.562825  52.872577   4.018822            0.00  0.037822   \n",
            "2           1.0  23.562825  52.872577   4.018822            0.00  0.037822   \n",
            "3           1.0  50.954384  43.218847  11.493559            1.79  0.119051   \n",
            "4           1.0  50.954384  43.218847  11.493559            1.79  0.119051   \n",
            "\n",
            "   ticker_price_x  ticker_price_y  ticker_price  \n",
            "0             NaN             NaN     22.025376  \n",
            "1             NaN             NaN     22.025376  \n",
            "2             NaN             NaN     22.025376  \n",
            "3             NaN             NaN     22.025376  \n",
            "4             NaN             NaN     22.025376  \n",
            "\n",
            "[5 rows x 27 columns]\n"
          ]
        }
      ]
    },
    {
      "cell_type": "code",
      "source": [
        "import numpy as np\n",
        "\n",
        "# Fill missing P/E Ratio\n",
        "df_processed['P/E Ratio'] = np.where(\n",
        "    pd.notnull(df_processed['P/E Ratio']),  # keep existing if present\n",
        "    df_processed['P/E Ratio'],\n",
        "    np.where(df_processed['EPS'] > 0, df_processed['ticker_price'] / df_processed['EPS'], np.nan)\n",
        ")\n",
        "\n",
        "# Fill missing P/B Ratio\n",
        "df_processed['PB_Ratio'] = np.where(\n",
        "    pd.notnull(df_processed['PB_Ratio']),  # keep existing if present\n",
        "    df_processed['PB_Ratio'],\n",
        "    np.where(\n",
        "        (df_processed['equity'] > 0) & (df_processed['shares_outstanding'] > 0),\n",
        "        df_processed['ticker_price'] / (df_processed['equity'] / df_processed['shares_outstanding']),\n",
        "        np.nan\n",
        "    )\n",
        ")\n"
      ],
      "metadata": {
        "id": "K6K46hmjO2t8"
      },
      "execution_count": null,
      "outputs": []
    },
    {
      "cell_type": "code",
      "source": [
        "print(df_processed.shape)\n",
        "print(df_processed.head())"
      ],
      "metadata": {
        "colab": {
          "base_uri": "https://localhost:8080/"
        },
        "id": "UYFU3d_tO3-J",
        "outputId": "3287a4ff-e49d-479d-f3a4-a37131e8c3af"
      },
      "execution_count": null,
      "outputs": [
        {
          "output_type": "stream",
          "name": "stdout",
          "text": [
            "(28352, 27)\n",
            "    cik ticker               entity  year        assets        equity  \\\n",
            "0  1750    AIR             AAR CORP  2009  1.501042e+09  7.469060e+08   \n",
            "1  1750    AIR             AAR CORP  2010  1.501042e+09  7.469060e+08   \n",
            "2  1750    AIR             AAR CORP  2020  1.501042e+09  7.469060e+08   \n",
            "3  1800    ABT  ABBOTT LABORATORIES  2007  3.971392e+10  1.777854e+10   \n",
            "4  1800    ABT  ABBOTT LABORATORIES  2008  3.971392e+10  1.777854e+10   \n",
            "\n",
            "    liabilities    net_income  public_float       revenue  ...       EPS  \\\n",
            "0  1.501042e+09  5.677200e+07  9.345680e+08  9.800000e+06  ...  1.431366   \n",
            "1  1.501042e+09  5.677200e+07  9.345680e+08  9.800000e+06  ...  1.431366   \n",
            "2  1.501042e+09  5.677200e+07  9.345680e+08  9.800000e+06  ...  1.431366   \n",
            "3  3.971392e+10  4.728000e+09  7.877102e+10  2.085300e+10  ...  3.058388   \n",
            "4  3.971392e+10  4.728000e+09  7.877102e+10  2.085300e+10  ...  3.058388   \n",
            "\n",
            "   CurrentRatio   FloatPct  P/E Ratio   PB_Ratio  Dividend_Yield       ROI  \\\n",
            "0           1.0  23.562825  52.872577   4.018822            0.00  0.037822   \n",
            "1           1.0  23.562825  52.872577   4.018822            0.00  0.037822   \n",
            "2           1.0  23.562825  52.872577   4.018822            0.00  0.037822   \n",
            "3           1.0  50.954384  43.218847  11.493559            1.79  0.119051   \n",
            "4           1.0  50.954384  43.218847  11.493559            1.79  0.119051   \n",
            "\n",
            "   ticker_price_x  ticker_price_y  ticker_price  \n",
            "0             NaN             NaN     22.025376  \n",
            "1             NaN             NaN     22.025376  \n",
            "2             NaN             NaN     22.025376  \n",
            "3             NaN             NaN     22.025376  \n",
            "4             NaN             NaN     22.025376  \n",
            "\n",
            "[5 rows x 27 columns]\n"
          ]
        }
      ]
    },
    {
      "cell_type": "code",
      "source": [
        "import numpy as np\n",
        "\n",
        "# Fill missing P/E Ratio\n",
        "df_processed['P/E Ratio'] = np.where(\n",
        "    pd.notnull(df_processed['P/E Ratio']),\n",
        "    df_processed['P/E Ratio'],  # keep original if exists\n",
        "    np.where(df_processed['EPS'] > 0, df_processed['ticker_price'] / df_processed['EPS'], np.nan)\n",
        ")\n",
        "\n",
        "# Fill missing P/B Ratio\n",
        "df_processed['PB_Ratio'] = np.where(\n",
        "    pd.notnull(df_processed['PB_Ratio']),\n",
        "    df_processed['PB_Ratio'],  # keep original if exists\n",
        "    np.where(\n",
        "        (df_processed['equity'] > 0) & (df_processed['shares_outstanding'] > 0),\n",
        "        df_processed['ticker_price'] / (df_processed['equity'] / df_processed['shares_outstanding']),\n",
        "        np.nan\n",
        "    )\n",
        ")\n"
      ],
      "metadata": {
        "id": "hoMjRxRBPJIp"
      },
      "execution_count": null,
      "outputs": []
    },
    {
      "cell_type": "code",
      "source": [
        "df_processed['P/E Ratio'].fillna(df_processed['P/E Ratio'].median(), inplace=True)\n",
        "df_processed['PB_Ratio'].fillna(df_processed['PB_Ratio'].median(), inplace=True)\n"
      ],
      "metadata": {
        "colab": {
          "base_uri": "https://localhost:8080/"
        },
        "id": "XpLGd08HPL34",
        "outputId": "cdd2701a-270e-4430-973e-20614d41a7e9"
      },
      "execution_count": null,
      "outputs": [
        {
          "output_type": "stream",
          "name": "stderr",
          "text": [
            "/tmp/ipython-input-882418333.py:1: FutureWarning: A value is trying to be set on a copy of a DataFrame or Series through chained assignment using an inplace method.\n",
            "The behavior will change in pandas 3.0. This inplace method will never work because the intermediate object on which we are setting values always behaves as a copy.\n",
            "\n",
            "For example, when doing 'df[col].method(value, inplace=True)', try using 'df.method({col: value}, inplace=True)' or df[col] = df[col].method(value) instead, to perform the operation inplace on the original object.\n",
            "\n",
            "\n",
            "  df_processed['P/E Ratio'].fillna(df_processed['P/E Ratio'].median(), inplace=True)\n",
            "/tmp/ipython-input-882418333.py:2: FutureWarning: A value is trying to be set on a copy of a DataFrame or Series through chained assignment using an inplace method.\n",
            "The behavior will change in pandas 3.0. This inplace method will never work because the intermediate object on which we are setting values always behaves as a copy.\n",
            "\n",
            "For example, when doing 'df[col].method(value, inplace=True)', try using 'df.method({col: value}, inplace=True)' or df[col] = df[col].method(value) instead, to perform the operation inplace on the original object.\n",
            "\n",
            "\n",
            "  df_processed['PB_Ratio'].fillna(df_processed['PB_Ratio'].median(), inplace=True)\n"
          ]
        }
      ]
    },
    {
      "cell_type": "code",
      "source": [
        "import pandas as pd\n",
        "\n",
        "print(df_processed.info())       # Check for nulls and data types\n",
        "print(df_processed.isnull().sum())  # Count of nulls in each column\n",
        "print(df_processed.duplicated().sum())  # Check for duplicates\n"
      ],
      "metadata": {
        "colab": {
          "base_uri": "https://localhost:8080/"
        },
        "id": "deH7SMqcPAFX",
        "outputId": "a3271cae-f6d4-4c9d-d2b5-e301f107ef1b"
      },
      "execution_count": null,
      "outputs": [
        {
          "output_type": "stream",
          "name": "stdout",
          "text": [
            "<class 'pandas.core.frame.DataFrame'>\n",
            "RangeIndex: 28352 entries, 0 to 28351\n",
            "Data columns (total 27 columns):\n",
            " #   Column              Non-Null Count  Dtype  \n",
            "---  ------              --------------  -----  \n",
            " 0   cik                 28352 non-null  int64  \n",
            " 1   ticker              28352 non-null  object \n",
            " 2   entity              28352 non-null  object \n",
            " 3   year                28352 non-null  int64  \n",
            " 4   assets              28352 non-null  float64\n",
            " 5   equity              28352 non-null  float64\n",
            " 6   liabilities         28352 non-null  float64\n",
            " 7   net_income          28352 non-null  float64\n",
            " 8   public_float        28352 non-null  float64\n",
            " 9   revenue             28352 non-null  float64\n",
            " 10  shares_outstanding  28352 non-null  float64\n",
            " 11  ROE                 28352 non-null  float64\n",
            " 12  ROA                 28352 non-null  float64\n",
            " 13  DebtToEquity        28352 non-null  float64\n",
            " 14  ProfitMargin        28352 non-null  float64\n",
            " 15  AssetTurnover       28352 non-null  float64\n",
            " 16  EquityRatio         28352 non-null  float64\n",
            " 17  EPS                 28352 non-null  float64\n",
            " 18  CurrentRatio        28352 non-null  float64\n",
            " 19  FloatPct            28352 non-null  float64\n",
            " 20  P/E Ratio           28352 non-null  float64\n",
            " 21  PB_Ratio            28352 non-null  float64\n",
            " 22  Dividend_Yield      28352 non-null  float64\n",
            " 23  ROI                 28352 non-null  float64\n",
            " 24  ticker_price_x      84 non-null     float64\n",
            " 25  ticker_price_y      84 non-null     float64\n",
            " 26  ticker_price        28352 non-null  float64\n",
            "dtypes: float64(23), int64(2), object(2)\n",
            "memory usage: 5.8+ MB\n",
            "None\n",
            "cik                       0\n",
            "ticker                    0\n",
            "entity                    0\n",
            "year                      0\n",
            "assets                    0\n",
            "equity                    0\n",
            "liabilities               0\n",
            "net_income                0\n",
            "public_float              0\n",
            "revenue                   0\n",
            "shares_outstanding        0\n",
            "ROE                       0\n",
            "ROA                       0\n",
            "DebtToEquity              0\n",
            "ProfitMargin              0\n",
            "AssetTurnover             0\n",
            "EquityRatio               0\n",
            "EPS                       0\n",
            "CurrentRatio              0\n",
            "FloatPct                  0\n",
            "P/E Ratio                 0\n",
            "PB_Ratio                  0\n",
            "Dividend_Yield            0\n",
            "ROI                       0\n",
            "ticker_price_x        28268\n",
            "ticker_price_y        28268\n",
            "ticker_price              0\n",
            "dtype: int64\n",
            "0\n"
          ]
        }
      ]
    },
    {
      "cell_type": "code",
      "source": [
        "# Save to CSV\n",
        "df_processed.to_csv(\"fda-4_dataset.csv\", index=False)\n",
        "print(\" CSV saved successfully\")\n"
      ],
      "metadata": {
        "colab": {
          "base_uri": "https://localhost:8080/"
        },
        "id": "45Sp3MrI6m4w",
        "outputId": "aea3ba99-2f35-442a-d087-6d4d4d3f1829"
      },
      "execution_count": null,
      "outputs": [
        {
          "output_type": "stream",
          "name": "stdout",
          "text": [
            "✅ CSV saved successfully\n"
          ]
        }
      ]
    },
    {
      "cell_type": "code",
      "source": [],
      "metadata": {
        "id": "O9GuOhrJ7QUN"
      },
      "execution_count": null,
      "outputs": []
    }
  ]
}